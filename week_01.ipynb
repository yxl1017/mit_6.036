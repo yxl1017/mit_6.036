{
 "cells": [
  {
   "cell_type": "code",
   "execution_count": 29,
   "id": "95084a0d-49da-47c5-bb30-d8390ce6bd3c",
   "metadata": {},
   "outputs": [],
   "source": [
    "def score(data, labels, th, th0):\n",
    "    return np.sum((np.sign(th.T.dot(data) + th0.T)) == labels, axis=1)"
   ]
  },
  {
   "cell_type": "code",
   "execution_count": 4,
   "id": "08f31200-b920-439a-80a9-2e8b8217d09c",
   "metadata": {},
   "outputs": [],
   "source": [
    "data = np.transpose(np.array([[1, 2], [1, 3], [2, 1], [1, -1], [2, -1]]))\n",
    "labels = np.array([[-1, -1, +1, +1, +1]])"
   ]
  },
  {
   "cell_type": "code",
   "execution_count": 26,
   "id": "db04c175-d31b-409a-a8b2-da01749dc250",
   "metadata": {},
   "outputs": [
    {
     "data": {
      "text/plain": [
       "array([3, 3, 3])"
      ]
     },
     "execution_count": 26,
     "metadata": {},
     "output_type": "execute_result"
    }
   ],
   "source": [
    "ths = np.array([[3, 4, 5], [4, 5, 6]])\n",
    "th0s = np.array([[5, 6, 7]])\n",
    "score(data, labels, ths, th0s)"
   ]
  },
  {
   "cell_type": "code",
   "execution_count": 37,
   "id": "25aed661-63bb-4894-939d-01ac2dfd9044",
   "metadata": {},
   "outputs": [],
   "source": [
    "def best_separator(data, labels, ths, th0s):\n",
    "    def score(data, labels, th, th0):\n",
    "        return np.sum((np.sign(th.T.dot(data) + th0.T)) == labels, axis=1)\n",
    "    index = np.argmax(score(data, labels, ths, th0s))\n",
    "    return (index, np.array([ths[:, index]]).T, np.array([th0s[:, index]]))"
   ]
  },
  {
   "cell_type": "code",
   "execution_count": 38,
   "id": "ce4add5f-a32f-49a2-a9ac-ed74cafe9ee3",
   "metadata": {},
   "outputs": [
    {
     "data": {
      "text/plain": [
       "(0,\n",
       " array([[3],\n",
       "        [4]]),\n",
       " array([[5]]))"
      ]
     },
     "execution_count": 38,
     "metadata": {},
     "output_type": "execute_result"
    }
   ],
   "source": [
    "best_separator(data, labels, ths, th0s)"
   ]
  }
 ],
 "metadata": {
  "kernelspec": {
   "display_name": "Python 3 (ipykernel)",
   "language": "python",
   "name": "python3"
  },
  "language_info": {
   "codemirror_mode": {
    "name": "ipython",
    "version": 3
   },
   "file_extension": ".py",
   "mimetype": "text/x-python",
   "name": "python",
   "nbconvert_exporter": "python",
   "pygments_lexer": "ipython3",
   "version": "3.9.16"
  }
 },
 "nbformat": 4,
 "nbformat_minor": 5
}
