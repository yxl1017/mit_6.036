{
 "cells": [
  {
   "cell_type": "markdown",
   "id": "81c1ebf7-3656-4026-8010-17985025e0e8",
   "metadata": {},
   "source": [
    "Week 13 Exercises"
   ]
  },
  {
   "cell_type": "code",
   "execution_count": 15,
   "id": "2ca9a3e3-5b75-4578-8a1b-07ff014415bc",
   "metadata": {},
   "outputs": [],
   "source": [
    "from math import log2\n",
    "def entropy(data, j, s):\n",
    "    '''\n",
    "    data: a list of (f1, f2, y)\n",
    "    j: dimension of f (1 or 2)\n",
    "    s: split value\n",
    "    '''\n",
    "    n = len(data)\n",
    "    left_neg = []\n",
    "    left_pos = []\n",
    "    right_neg = []\n",
    "    right_pos = []\n",
    "\n",
    "    for elt in data:\n",
    "        if elt[j-1] >= s:\n",
    "            if elt[2] == 1:\n",
    "                right_pos.append(elt[j-1])\n",
    "            else:\n",
    "                right_neg.append(elt[j-1])\n",
    "        else:\n",
    "            if elt[2] == 1:\n",
    "                left_pos.append(elt[j-1])\n",
    "            else:\n",
    "                left_neg.append(elt[j-1])\n",
    "    #print(left_neg, left_pos, right_neg, right_pos)\n",
    "    rp_pos = len(right_pos)/len(right_pos + right_neg)\n",
    "    if rp_pos in (0, 1):\n",
    "        h_right = 0\n",
    "    else:\n",
    "        h_right = -rp_pos*log2(rp_pos) - (1 - rp_pos)*log2(1 - rp_pos)\n",
    "    \n",
    "    lp_pos = len(left_pos)/len(left_pos + left_neg)\n",
    "    if lp_pos in (0, 1):\n",
    "        h_left = 0\n",
    "    else:\n",
    "        h_left = -lp_pos*log2(lp_pos) - (1 - lp_pos)*log2(1 - lp_pos)\n",
    "    H = len(left_pos + left_neg)/n*h_left + len(right_pos + right_neg)/n*h_right\n",
    "    return H"
   ]
  },
  {
   "cell_type": "code",
   "execution_count": 16,
   "id": "fa887fe9-827f-477c-83a1-ddb97959564a",
   "metadata": {},
   "outputs": [
    {
     "data": {
      "text/plain": [
       "0.5408520829727552"
      ]
     },
     "execution_count": 16,
     "metadata": {},
     "output_type": "execute_result"
    }
   ],
   "source": [
    "data = [(-1, -1, -1), (2, 1, -1), (2, -1, -1), (-2, 1, 1), (-1, 1, 1), (1, -1, 1)]\n",
    "entropy(data, 1, 1.5)"
   ]
  },
  {
   "cell_type": "code",
   "execution_count": 17,
   "id": "c161ca28-d3e4-45a6-8f2f-b19e5f2673b0",
   "metadata": {},
   "outputs": [
    {
     "data": {
      "text/plain": [
       "0.8091254953788906"
      ]
     },
     "execution_count": 17,
     "metadata": {},
     "output_type": "execute_result"
    }
   ],
   "source": [
    "entropy(data, 1, -1.5)"
   ]
  },
  {
   "cell_type": "code",
   "execution_count": 18,
   "id": "a4c71546-9a45-4f40-81c7-09b941ef7817",
   "metadata": {},
   "outputs": [
    {
     "data": {
      "text/plain": [
       "0.9182958340544896"
      ]
     },
     "execution_count": 18,
     "metadata": {},
     "output_type": "execute_result"
    }
   ],
   "source": [
    "entropy(data, 1, 0)"
   ]
  },
  {
   "cell_type": "code",
   "execution_count": 19,
   "id": "84b270a0-cb95-4b60-892e-a840eb0d24ca",
   "metadata": {},
   "outputs": [
    {
     "data": {
      "text/plain": [
       "0.9182958340544896"
      ]
     },
     "execution_count": 19,
     "metadata": {},
     "output_type": "execute_result"
    }
   ],
   "source": [
    "entropy(data, 2, 0)"
   ]
  }
 ],
 "metadata": {
  "kernelspec": {
   "display_name": "Python 3 (ipykernel)",
   "language": "python",
   "name": "python3"
  },
  "language_info": {
   "codemirror_mode": {
    "name": "ipython",
    "version": 3
   },
   "file_extension": ".py",
   "mimetype": "text/x-python",
   "name": "python",
   "nbconvert_exporter": "python",
   "pygments_lexer": "ipython3",
   "version": "3.10.9"
  }
 },
 "nbformat": 4,
 "nbformat_minor": 5
}
