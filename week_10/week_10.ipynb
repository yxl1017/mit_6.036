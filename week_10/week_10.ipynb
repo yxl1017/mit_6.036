{
 "cells": [
  {
   "cell_type": "code",
   "execution_count": 1,
   "id": "be8d64f0-7e45-4809-9c2c-c408d1138375",
   "metadata": {},
   "outputs": [],
   "source": [
    "# exercise\n",
    "experience = [(0, 'b', 0), #t = 0\n",
    "              (2, 'b', 0),\n",
    "              (3, 'b', 2),\n",
    "              (0, 'b', 0), #t = 3\n",
    "              (2, 'b', 0),\n",
    "              (3, 'c', 2),\n",
    "              (0, 'c', 0), #t = 6\n",
    "              (1, 'b', 1),\n",
    "              (0, 'b', 0),\n",
    "              (2, 'c', 0), #t = 9\n",
    "              (3, 'c', 2),\n",
    "              (0, 'c', 0),\n",
    "              (1, 'c', 1), #t = 12\n",
    "              (0, 'c', 0),\n",
    "              (2, 'b', 0),\n",
    "              (3, 'b', 2), #t = 15\n",
    "              (0, 'b', 0),\n",
    "              (2, 'c', 0),\n",
    "              (3, '', 0), #t = 18\n",
    "              ]"
   ]
  },
  {
   "cell_type": "code",
   "execution_count": 4,
   "id": "0c66915e-c41a-422d-8a2b-cb4fe690a111",
   "metadata": {},
   "outputs": [
    {
     "name": "stdout",
     "output_type": "stream",
     "text": [
      "{(0, 'b'): 0, (0, 'c'): 0, (1, 'b'): 0, (1, 'c'): 0, (2, 'b'): 0, (2, 'c'): 0, (3, 'b'): 0, (3, 'c'): 0}\n",
      "0 b : 0.0\n",
      "2 b : 0.0\n",
      "3 b : 1.0\n",
      "0 b : 0.0\n",
      "2 b : 0.45\n",
      "3 c : 1.0\n",
      "0 c : 0.0\n",
      "1 b : 0.5\n",
      "0 b : 0.2025\n",
      "2 c : 0.45\n",
      "3 c : 1.591125\n",
      "0 c : 0.225\n",
      "1 c : 0.6012500000000001\n",
      "0 c : 0.315\n",
      "2 b : 0.9410062499999999\n",
      "3 b : 1.64175\n",
      "0 b : 0.5247028125\n",
      "2 c : 0.9637875\n"
     ]
    }
   ],
   "source": [
    "Qs = {}\n",
    "for s in (0, 1, 2, 3):\n",
    "    for a in ('b', 'c'):\n",
    "        Qs[(s, a)] = 0\n",
    "print(Qs)\n",
    "gamma = 0.9\n",
    "alpha = 0.5\n",
    "for i in range(len(experience)-1):\n",
    "    s, a, r = experience[i]\n",
    "    s_prime = experience[i+1][0]\n",
    "    max_Q = max(Qs[(s_prime, 'b')], Qs[(s_prime, 'c')])\n",
    "    Qs[(s, a)] = (1 - alpha)*Qs[(s, a)] + alpha*(r + gamma*max_Q)\n",
    "    print(s, a, ':', Qs[(s, a)])"
   ]
  }
 ],
 "metadata": {
  "kernelspec": {
   "display_name": "Python 3 (ipykernel)",
   "language": "python",
   "name": "python3"
  },
  "language_info": {
   "codemirror_mode": {
    "name": "ipython",
    "version": 3
   },
   "file_extension": ".py",
   "mimetype": "text/x-python",
   "name": "python",
   "nbconvert_exporter": "python",
   "pygments_lexer": "ipython3",
   "version": "3.10.9"
  }
 },
 "nbformat": 4,
 "nbformat_minor": 5
}
