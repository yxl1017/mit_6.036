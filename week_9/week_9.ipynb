{
 "cells": [
  {
   "cell_type": "code",
   "execution_count": 10,
   "id": "27b86ed9-084b-4af3-9345-e9df943acc22",
   "metadata": {},
   "outputs": [
    {
     "data": {
      "text/plain": [
       "[6.052882945467179, 6.486632072338917, 6.751958097477377, 7.585533171240016]"
      ]
     },
     "execution_count": 10,
     "metadata": {},
     "output_type": "execute_result"
    }
   ],
   "source": [
    "# 2.2.C)\n",
    "import numpy as np\n",
    "c = np.array([[0, 0.09, 0.81, 0],[0.81, 0.09, 0, 0],[0, 0, 0.09, 0.81],[0.81, 0, 0, 0.09]])\n",
    "for i in range(len(c)):\n",
    "    c[i, i] -= 1\n",
    "    \n",
    "A = c\n",
    "b = np.matrix([[0], [-1], [0], [-2]])\n",
    "v = np.linalg.solve(A, b) # Av = b\n",
    "[i.item() for i in v]"
   ]
  },
  {
   "cell_type": "code",
   "execution_count": 11,
   "id": "50c7e2f4-8b8e-4b6f-b507-7949e936f176",
   "metadata": {},
   "outputs": [
    {
     "data": {
      "text/plain": [
       "1.0287000000000002"
      ]
     },
     "execution_count": 11,
     "metadata": {},
     "output_type": "execute_result"
    }
   ],
   "source": [
    "# 3\n",
    "# iteration 3 \n",
    "# Q(0,b)\n",
    "0.9*(0.9*1.09 + 0.1*1.62)"
   ]
  },
  {
   "cell_type": "code",
   "execution_count": 12,
   "id": "7b98f52e-96b4-435f-9f3c-b488308116f3",
   "metadata": {},
   "outputs": [
    {
     "data": {
      "text/plain": [
       "1.4103"
      ]
     },
     "execution_count": 12,
     "metadata": {},
     "output_type": "execute_result"
    }
   ],
   "source": [
    "# Q(0,c)\n",
    "0.9*(0.1*1.09 + 0.9*1.62)"
   ]
  },
  {
   "cell_type": "code",
   "execution_count": 13,
   "id": "3339bac3-b9e3-4302-a5c8-55fd7be38b8d",
   "metadata": {},
   "outputs": [
    {
     "data": {
      "text/plain": [
       "1.7542"
      ]
     },
     "execution_count": 13,
     "metadata": {},
     "output_type": "execute_result"
    }
   ],
   "source": [
    "# Q(1,b)\n",
    "1 + 0.9*(0.9*0.81 + 0.1*1.09)"
   ]
  },
  {
   "cell_type": "code",
   "execution_count": 14,
   "id": "d5f7dba7-7e81-47fc-8cbc-274cda7c21c2",
   "metadata": {},
   "outputs": [
    {
     "data": {
      "text/plain": [
       "1.9116000000000002"
      ]
     },
     "execution_count": 14,
     "metadata": {},
     "output_type": "execute_result"
    }
   ],
   "source": [
    "# Q(2,b)\n",
    "0.9*(0.1*1.62 + 0.9*2.18)"
   ]
  },
  {
   "cell_type": "code",
   "execution_count": 15,
   "id": "08fb4eeb-e6c6-4628-889d-54fb286428b0",
   "metadata": {},
   "outputs": [
    {
     "data": {
      "text/plain": [
       "2.8523"
      ]
     },
     "execution_count": 15,
     "metadata": {},
     "output_type": "execute_result"
    }
   ],
   "source": [
    "# Q(3,b)\n",
    "2 + 0.9*(0.9*0.81 + 0.1*2.18)"
   ]
  }
 ],
 "metadata": {
  "kernelspec": {
   "display_name": "Python 3 (ipykernel)",
   "language": "python",
   "name": "python3"
  },
  "language_info": {
   "codemirror_mode": {
    "name": "ipython",
    "version": 3
   },
   "file_extension": ".py",
   "mimetype": "text/x-python",
   "name": "python",
   "nbconvert_exporter": "python",
   "pygments_lexer": "ipython3",
   "version": "3.10.10"
  }
 },
 "nbformat": 4,
 "nbformat_minor": 5
}
