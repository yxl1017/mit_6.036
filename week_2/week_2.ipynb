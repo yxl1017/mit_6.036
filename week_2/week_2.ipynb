{
 "cells": [
  {
   "cell_type": "code",
   "execution_count": 1,
   "id": "66dd5616-d62f-4165-8978-ec00fb5a0ac5",
   "metadata": {},
   "outputs": [],
   "source": [
    "import numpy as np\n",
    "def cv(x):\n",
    "    #convert a list into a column vector\n",
    "    return np.array([x]).T"
   ]
  },
  {
   "cell_type": "code",
   "execution_count": 6,
   "id": "31b1cc73-a5b8-42f3-a1a7-d2f1ff9ab73d",
   "metadata": {},
   "outputs": [],
   "source": [
    "def perceptron_origin(t, X, y):\n",
    "    '''\n",
    "    t: upper bound of iteration\n",
    "    X: dataset\n",
    "    y: corresponding label\n",
    "    '''\n",
    "    theta = cv([0]*len(X))\n",
    "    n = 0\n",
    "    for j in range(t):\n",
    "        changed = False\n",
    "        for i in range(len(y)):\n",
    "            if (y[i]*(theta.T@cv(X[:, i]))).item() <= 0:\n",
    "                theta = theta + y[i]*cv(X[:, i])\n",
    "                n += 1\n",
    "                changed = True\n",
    "        if not changed:\n",
    "            break\n",
    "    return theta, n"
   ]
  },
  {
   "cell_type": "code",
   "execution_count": 4,
   "id": "5e576244-2956-43b1-bd76-ea7bcdc2565f",
   "metadata": {},
   "outputs": [],
   "source": [
    "x1 = [1,-1]\n",
    "x2 = [0,1]\n",
    "x3 = [-1.5,-1]\n",
    "x1 = cv(x1)\n",
    "x2 = cv(x2)\n",
    "x3 = cv(x3)\n",
    "X = np.concatenate((x1, x2, x3), axis=1)\n",
    "y = cv([1, -1, 1])"
   ]
  },
  {
   "cell_type": "code",
   "execution_count": 7,
   "id": "15d4a08c-5483-4946-9ff9-e2572718d8a6",
   "metadata": {},
   "outputs": [
    {
     "data": {
      "text/plain": [
       "(array([[-0.5],\n",
       "        [-2. ]]),\n",
       " 2)"
      ]
     },
     "execution_count": 7,
     "metadata": {},
     "output_type": "execute_result"
    }
   ],
   "source": [
    "perceptron_origin(50, X, y)"
   ]
  },
  {
   "cell_type": "code",
   "execution_count": 11,
   "id": "5c79af01-04b5-40c5-924b-aafaa79d47f3",
   "metadata": {},
   "outputs": [],
   "source": [
    "X = np.concatenate((x2, x3, x1), axis=1)\n",
    "y = cv([-1, 1, 1])"
   ]
  },
  {
   "cell_type": "code",
   "execution_count": 12,
   "id": "9a6ab422-3021-44bd-a5da-25738e457f76",
   "metadata": {},
   "outputs": [
    {
     "data": {
      "text/plain": [
       "(array([[ 0.],\n",
       "        [-1.]]),\n",
       " 1)"
      ]
     },
     "execution_count": 12,
     "metadata": {},
     "output_type": "execute_result"
    }
   ],
   "source": [
    "perceptron_origin(50, X, y)"
   ]
  },
  {
   "cell_type": "code",
   "execution_count": 13,
   "id": "8b7c0a3e-4aab-4739-911d-b4360077c097",
   "metadata": {},
   "outputs": [
    {
     "data": {
      "text/plain": [
       "(array([[-5],\n",
       "        [-6]]),\n",
       " 6)"
      ]
     },
     "execution_count": 13,
     "metadata": {},
     "output_type": "execute_result"
    }
   ],
   "source": [
    "x1 = [1,-1]\n",
    "x2 = [0,1]\n",
    "\n",
    "x1 = cv(x1)\n",
    "x2 = cv(x2)\n",
    "x3 = cv([-10, -1])\n",
    "X = np.concatenate((x1, x2, x3), axis=1)\n",
    "y = cv([1, -1, 1])\n",
    "\n",
    "perceptron_origin(50, X, y)"
   ]
  },
  {
   "cell_type": "code",
   "execution_count": 15,
   "id": "80f66866-908c-4dd8-901b-ef2477e93bb6",
   "metadata": {},
   "outputs": [
    {
     "data": {
      "text/plain": [
       "(array([[ 0],\n",
       "        [-1]]),\n",
       " 1)"
      ]
     },
     "execution_count": 15,
     "metadata": {},
     "output_type": "execute_result"
    }
   ],
   "source": [
    "X = np.concatenate((x2, x3, x1), axis=1)\n",
    "y = cv([-1, 1, 1])\n",
    "perceptron_origin(50, X, y)"
   ]
  },
  {
   "cell_type": "code",
   "execution_count": 17,
   "id": "01e66b0c-980c-4204-9c8a-2acecc9637a9",
   "metadata": {},
   "outputs": [
    {
     "data": {
      "text/plain": [
       "(array([[  769.],\n",
       "        [-1154.]]),\n",
       " 154)"
      ]
     },
     "execution_count": 17,
     "metadata": {},
     "output_type": "execute_result"
    }
   ],
   "source": [
    "# 2.1\n",
    "def perceptron_origin(t, X, y):\n",
    "    '''\n",
    "    t: upper bound of iteration\n",
    "    X: dataset\n",
    "    y: corresponding label\n",
    "    '''\n",
    "    theta = cv([1000, -1000])\n",
    "    n = 0\n",
    "    for j in range(t):\n",
    "        changed = False\n",
    "        for i in range(len(y)):\n",
    "            if (y[i]*(theta.T@cv(X[:, i]))).item() <= 0:\n",
    "                theta = theta + y[i]*cv(X[:, i])\n",
    "                n += 1\n",
    "                changed = True\n",
    "        if not changed:\n",
    "            break\n",
    "    return theta, n\n",
    "\n",
    "x1 = [1,-1]\n",
    "x2 = [0,1]\n",
    "x3 = [-1.5,-1]\n",
    "x1 = cv(x1)\n",
    "x2 = cv(x2)\n",
    "x3 = cv(x3)\n",
    "X = np.concatenate((x1, x2, x3), axis=1)\n",
    "y = cv([1, -1, 1])\n",
    "\n",
    "perceptron_origin(1000, X, y)"
   ]
  },
  {
   "cell_type": "code",
   "execution_count": 18,
   "id": "d0d729e4-e238-4773-9de8-36d113aa9da8",
   "metadata": {},
   "outputs": [
    {
     "data": {
      "text/plain": [
       "(array([[ 0.],\n",
       "        [-1.]]),\n",
       " 1)"
      ]
     },
     "execution_count": 18,
     "metadata": {},
     "output_type": "execute_result"
    }
   ],
   "source": [
    "# 2.2\n",
    "def perceptron_origin(t, X, y):\n",
    "    '''\n",
    "    t: upper bound of iteration\n",
    "    X: dataset\n",
    "    y: corresponding label\n",
    "    '''\n",
    "    theta = cv([-1, 0])\n",
    "    n = 0\n",
    "    for j in range(t):\n",
    "        changed = False\n",
    "        for i in range(len(y)):\n",
    "            if (y[i]*(theta.T@cv(X[:, i]))).item() <= 0:\n",
    "                theta = theta + y[i]*cv(X[:, i])\n",
    "                n += 1\n",
    "                changed = True\n",
    "        if not changed:\n",
    "            break\n",
    "    return theta, n\n",
    "\n",
    "x1 = [1,-1]\n",
    "x2 = [0,1]\n",
    "x3 = [-1.5,-1]\n",
    "x1 = cv(x1)\n",
    "x2 = cv(x2)\n",
    "x3 = cv(x3)\n",
    "X = np.concatenate((x1, x2, x3), axis=1)\n",
    "y = cv([1, -1, 1])\n",
    "\n",
    "perceptron_origin(1000, X, y)"
   ]
  },
  {
   "cell_type": "code",
   "execution_count": 26,
   "id": "dd03634c-8600-4018-ac61-ff129909df02",
   "metadata": {},
   "outputs": [],
   "source": [
    "# 3\n",
    "def perceptron(t, X, y):\n",
    "    '''\n",
    "    t: upper bound of iteration\n",
    "    X: dataset\n",
    "    y: corresponding label\n",
    "    '''\n",
    "    theta = cv([0]*len(X))\n",
    "    theta0 = 0\n",
    "    n = 0\n",
    "    for j in range(t):\n",
    "        changed = False\n",
    "        for i in range(len(y)):\n",
    "            if (y[i]*(theta.T@cv(X[:, i]) + theta0)).item() <= 0:\n",
    "                theta = theta + y[i]*cv(X[:, i])\n",
    "                theta0 += y[i].item()\n",
    "                n += 1\n",
    "                changed = True\n",
    "        if not changed:\n",
    "            break\n",
    "    return theta, theta0, n"
   ]
  },
  {
   "cell_type": "code",
   "execution_count": 27,
   "id": "49bc455d-0ae8-4cfb-82cd-0c363d623966",
   "metadata": {},
   "outputs": [
    {
     "data": {
      "text/plain": [
       "(array([[-2],\n",
       "        [ 0]]),\n",
       " -5,\n",
       " 9)"
      ]
     },
     "execution_count": 27,
     "metadata": {},
     "output_type": "execute_result"
    }
   ],
   "source": [
    "x1 = cv([-3, 2])\n",
    "x2 = cv([-1, 1])\n",
    "x3 = cv([-1, -1])\n",
    "x4 = cv([2, 2])\n",
    "x5 = cv([1, -1])\n",
    "X = np.concatenate([x1, x2, x3, x4, x5], axis=1)\n",
    "y = cv([1, -1, -1, -1, -1])\n",
    "\n",
    "perceptron(100, X, y)"
   ]
  },
  {
   "cell_type": "code",
   "execution_count": 1,
   "id": "d6008a20-d642-41d6-a0bb-ef6a9163d51d",
   "metadata": {},
   "outputs": [
    {
     "data": {
      "text/plain": [
       "[array([[2, 3],\n",
       "        [5, 1]]),\n",
       " array([[ 9, 12],\n",
       "        [ 6,  5]]),\n",
       " array([[1],\n",
       "        [1]])]"
      ]
     },
     "execution_count": 1,
     "metadata": {},
     "output_type": "execute_result"
    }
   ],
   "source": [
    "# np.concatenate\n",
    "import numpy as np\n",
    "X = np.array([[2, 3, 9, 12, 1],\n",
    "                  [5, 1, 6, 5, 1]])\n",
    "D = np.array_split(X, 3, axis=1)\n",
    "D"
   ]
  },
  {
   "cell_type": "code",
   "execution_count": 23,
   "id": "2b74a363-ac12-4dca-97b8-3708365295b1",
   "metadata": {},
   "outputs": [
    {
     "data": {
      "text/plain": [
       "array([[ 2,  3,  9, 12],\n",
       "       [ 5,  1,  6,  5]])"
      ]
     },
     "execution_count": 23,
     "metadata": {},
     "output_type": "execute_result"
    }
   ],
   "source": [
    "np.concatenate((D[:2]), axis=1)"
   ]
  },
  {
   "cell_type": "code",
   "execution_count": 2,
   "id": "6bdc8aea-39fc-48f7-8b49-55688be837a5",
   "metadata": {},
   "outputs": [
    {
     "data": {
      "text/plain": [
       "array([[2, 3, 1],\n",
       "       [5, 1, 1]])"
      ]
     },
     "execution_count": 2,
     "metadata": {},
     "output_type": "execute_result"
    }
   ],
   "source": [
    "np.concatenate((D[0], D[2]), axis=1)"
   ]
  },
  {
   "cell_type": "code",
   "execution_count": 18,
   "id": "f271e861-9739-44f5-bfc8-4694ce261159",
   "metadata": {},
   "outputs": [
    {
     "data": {
      "text/plain": [
       "array([[2, 3, 1],\n",
       "       [5, 1, 1]])"
      ]
     },
     "execution_count": 18,
     "metadata": {},
     "output_type": "execute_result"
    }
   ],
   "source": [
    "np.concatenate((D[:1] + D[2:]), axis=1)"
   ]
  },
  {
   "cell_type": "code",
   "execution_count": 5,
   "id": "a803db1c-7e34-47f9-a692-0d262c09a58d",
   "metadata": {},
   "outputs": [
    {
     "ename": "ValueError",
     "evalue": "all the input array dimensions for the concatenation axis must match exactly, but along dimension 2, the array at index 0 has size 2 and the array at index 1 has size 1",
     "output_type": "error",
     "traceback": [
      "\u001b[1;31m---------------------------------------------------------------------------\u001b[0m",
      "\u001b[1;31mValueError\u001b[0m                                Traceback (most recent call last)",
      "Cell \u001b[1;32mIn[5], line 1\u001b[0m\n\u001b[1;32m----> 1\u001b[0m \u001b[43mnp\u001b[49m\u001b[38;5;241;43m.\u001b[39;49m\u001b[43mconcatenate\u001b[49m\u001b[43m(\u001b[49m\u001b[43m(\u001b[49m\u001b[43mD\u001b[49m\u001b[43m[\u001b[49m\u001b[43m:\u001b[49m\u001b[38;5;241;43m1\u001b[39;49m\u001b[43m]\u001b[49m\u001b[43m,\u001b[49m\u001b[43m \u001b[49m\u001b[43mD\u001b[49m\u001b[43m[\u001b[49m\u001b[38;5;241;43m1\u001b[39;49m\u001b[38;5;241;43m+\u001b[39;49m\u001b[38;5;241;43m1\u001b[39;49m\u001b[43m:\u001b[49m\u001b[43m]\u001b[49m\u001b[43m)\u001b[49m\u001b[43m,\u001b[49m\u001b[43m \u001b[49m\u001b[43maxis\u001b[49m\u001b[38;5;241;43m=\u001b[39;49m\u001b[38;5;241;43m1\u001b[39;49m\u001b[43m)\u001b[49m\n",
      "File \u001b[1;32m<__array_function__ internals>:180\u001b[0m, in \u001b[0;36mconcatenate\u001b[1;34m(*args, **kwargs)\u001b[0m\n",
      "\u001b[1;31mValueError\u001b[0m: all the input array dimensions for the concatenation axis must match exactly, but along dimension 2, the array at index 0 has size 2 and the array at index 1 has size 1"
     ]
    }
   ],
   "source": [
    "np.concatenate((D[:1], D[1+1:]), axis=1)"
   ]
  },
  {
   "cell_type": "code",
   "execution_count": 13,
   "id": "122628bd-9acc-4178-a142-890a2642f4ff",
   "metadata": {},
   "outputs": [
    {
     "name": "stdout",
     "output_type": "stream",
     "text": [
      "[[1]\n",
      " [1]] (2, 1)\n",
      "[array([[1],\n",
      "       [1]])] 1\n"
     ]
    }
   ],
   "source": [
    "print(D[2], D[2].shape)\n",
    "print(D[2:], len(D[2:])) # list has no shape property"
   ]
  },
  {
   "cell_type": "code",
   "execution_count": 15,
   "id": "caba4bb2-8b72-46e1-bb2e-bd2b0213edfd",
   "metadata": {},
   "outputs": [
    {
     "data": {
      "text/plain": [
       "array([[ 1, -1, -1]])"
      ]
     },
     "execution_count": 15,
     "metadata": {},
     "output_type": "execute_result"
    }
   ],
   "source": [
    "y = np.array([[1, -1, 1, -1]])\n",
    "E = np.array_split(y, 3, axis=1)\n",
    "np.concatenate((E[:1][0], E[1+1:][0]), axis=1)"
   ]
  }
 ],
 "metadata": {
  "kernelspec": {
   "display_name": "Python 3 (ipykernel)",
   "language": "python",
   "name": "python3"
  },
  "language_info": {
   "codemirror_mode": {
    "name": "ipython",
    "version": 3
   },
   "file_extension": ".py",
   "mimetype": "text/x-python",
   "name": "python",
   "nbconvert_exporter": "python",
   "pygments_lexer": "ipython3",
   "version": "3.10.10"
  }
 },
 "nbformat": 4,
 "nbformat_minor": 5
}
