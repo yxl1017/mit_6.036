{
 "cells": [
  {
   "cell_type": "code",
   "execution_count": 1,
   "id": "830d5a71-d05a-44c0-b291-75f3d33f27d5",
   "metadata": {},
   "outputs": [],
   "source": [
    "import numpy as np\n",
    "W_ss = np.array([[-1, 0], [0, -1]])\n",
    "W_sx = np.array([1, 1]).reshape(-1, 1)\n",
    "s0 = np.array([0, 0]).reshape(-1, 1)"
   ]
  },
  {
   "cell_type": "code",
   "execution_count": 2,
   "id": "a5132695-3fe9-49e0-92f4-54cf46f13e0c",
   "metadata": {},
   "outputs": [],
   "source": [
    "x1 = [1, 0]\n",
    "x2 = [0, 0, 1]\n",
    "x3 = [0]"
   ]
  },
  {
   "cell_type": "code",
   "execution_count": 5,
   "id": "97f15ab2-6dc4-4c66-ba3c-f63deda70fac",
   "metadata": {},
   "outputs": [],
   "source": [
    "def sign(x):\n",
    "    # x can be scalar or vector, return elementwise sign\n",
    "    return np.where(x > 0, 1, np.where(x < 0, -1, 0))"
   ]
  },
  {
   "cell_type": "code",
   "execution_count": 21,
   "id": "84701116-877c-41df-ab59-ededebe30d99",
   "metadata": {},
   "outputs": [],
   "source": [
    "def rnn(x):\n",
    "    s_seq = []\n",
    "    s = s0\n",
    "    for i in range(len(x)):\n",
    "        x_i = np.array([x[i]]).reshape(-1, 1)\n",
    "        s = sign(W_ss@s + W_sx@x_i)\n",
    "        print(f's{i+1}: {s}')\n",
    "        s_seq.append(s)\n",
    "        print()\n",
    "    return s_seq"
   ]
  },
  {
   "cell_type": "code",
   "execution_count": 22,
   "id": "578cb7b8-42a6-4062-b3fe-77cbfe8d1f6b",
   "metadata": {},
   "outputs": [
    {
     "name": "stdout",
     "output_type": "stream",
     "text": [
      "s1: [[1]\n",
      " [1]]\n",
      "\n",
      "s2: [[-1]\n",
      " [-1]]\n",
      "\n",
      "s1: [[0]\n",
      " [0]]\n",
      "\n",
      "s2: [[0]\n",
      " [0]]\n",
      "\n",
      "s3: [[1]\n",
      " [1]]\n",
      "\n",
      "s1: [[0]\n",
      " [0]]\n",
      "\n"
     ]
    }
   ],
   "source": [
    "for x in (x1, x2, x3):\n",
    "    rnn(x)"
   ]
  },
  {
   "cell_type": "code",
   "execution_count": 24,
   "id": "f5556bfd-325d-4b78-8516-84c1d13cf922",
   "metadata": {},
   "outputs": [],
   "source": [
    "x1 = list('draw')\n",
    "x2 = list('saw')\n",
    "x3 = list('paw')\n",
    "x4 = list('raw')\n",
    "s0 = np.array([0, 0]).reshape(-1, 1)"
   ]
  },
  {
   "cell_type": "code",
   "execution_count": 31,
   "id": "addb973f-8787-4f5e-9d2a-5250de48e54c",
   "metadata": {},
   "outputs": [],
   "source": [
    "alphabet = list('adprsw')\n",
    "def onehot(c):\n",
    "    # c is a character\n",
    "    x = np.zeros((len(alphabet), 1))\n",
    "    x[alphabet.index(c), 0] = 1\n",
    "    return x"
   ]
  },
  {
   "cell_type": "code",
   "execution_count": 27,
   "id": "408188a3-ee1c-47d4-b6d5-92ef0be0d1ec",
   "metadata": {},
   "outputs": [],
   "source": [
    "def rnn(X):\n",
    "    s_seq = []\n",
    "    s = s0\n",
    "    for x in X:\n",
    "        x_i = onehot(x)\n",
    "        s = np.tanh(W_ss@s + W_sx@x_i)\n",
    "        s_seq.append(s)\n",
    "    return s_seq\n",
    "\n",
    "def lm(s_seq):\n",
    "    if [1, 1]@s_seq[-1] >0:\n",
    "        return 1\n",
    "    else:\n",
    "        return 0"
   ]
  },
  {
   "cell_type": "code",
   "execution_count": 36,
   "id": "c43fe0ce-34c1-4992-b53f-f17626a62048",
   "metadata": {},
   "outputs": [
    {
     "name": "stdout",
     "output_type": "stream",
     "text": [
      "[array([[-1],\n",
      "       [-1]]), array([[-1],\n",
      "       [-1]]), array([[0],\n",
      "       [0]]), array([[-1],\n",
      "       [-1]])]\n",
      "0\n"
     ]
    }
   ],
   "source": [
    "W_ss = np.array([1, 0, 0, 1]).reshape(2, 2)\n",
    "W_sx = np.array([1, -1, 1, -1, 1, -1, 1, -1, 1, -1, 1, -1]).reshape(2, 6)\n",
    "print(rnn(x1))\n",
    "print(lm(rnn(x1)))"
   ]
  },
  {
   "cell_type": "code",
   "execution_count": 37,
   "id": "7c8842d7-8a26-4d83-86e0-e588b95677df",
   "metadata": {},
   "outputs": [
    {
     "name": "stdout",
     "output_type": "stream",
     "text": [
      "0\n",
      "0\n",
      "0\n"
     ]
    }
   ],
   "source": [
    "print(lm(rnn(x2)))\n",
    "print(lm(rnn(x3)))\n",
    "print(lm(rnn(x4)))"
   ]
  },
  {
   "cell_type": "code",
   "execution_count": 35,
   "id": "4a6bae71-8439-4122-bce1-6f28ceaefbc7",
   "metadata": {},
   "outputs": [
    {
     "name": "stdout",
     "output_type": "stream",
     "text": [
      "[array([[1],\n",
      "       [0]]), array([[1],\n",
      "       [1]]), array([[1],\n",
      "       [1]])]\n"
     ]
    }
   ],
   "source": [
    "print(rnn(x3))"
   ]
  }
 ],
 "metadata": {
  "kernelspec": {
   "display_name": "Python 3 (ipykernel)",
   "language": "python",
   "name": "python3"
  },
  "language_info": {
   "codemirror_mode": {
    "name": "ipython",
    "version": 3
   },
   "file_extension": ".py",
   "mimetype": "text/x-python",
   "name": "python",
   "nbconvert_exporter": "python",
   "pygments_lexer": "ipython3",
   "version": "3.10.10"
  }
 },
 "nbformat": 4,
 "nbformat_minor": 5
}
