{
 "cells": [
  {
   "cell_type": "code",
   "execution_count": 1,
   "id": "d76645df-bac0-4de9-81ff-832004dfba58",
   "metadata": {},
   "outputs": [
    {
     "data": {
      "text/plain": [
       "[[24, 12, 6], [0, 0, 0], [12, 6, 3], [24, 12, 6]]"
      ]
     },
     "execution_count": 1,
     "metadata": {},
     "output_type": "execute_result"
    }
   ],
   "source": [
    "import numpy as np\n",
    "u = np.array([6, 0, 3, 6]).reshape(-1, 1)\n",
    "v = np.array([4, 2, 1]).reshape(-1, 1)\n",
    "x = u@v.T\n",
    "x.tolist()"
   ]
  },
  {
   "cell_type": "code",
   "execution_count": 2,
   "id": "4308e67f-af53-45fc-ab5d-adbc14fd7659",
   "metadata": {},
   "outputs": [
    {
     "name": "stdout",
     "output_type": "stream",
     "text": [
      "511\n",
      "306.5\n"
     ]
    }
   ],
   "source": [
    "y = np.array([5, 0, 7, 0, 2, 0, 4, 0, 0, 0, 3, 6]).reshape(4, 3)\n",
    "res = np.where(y != 0, (x-y)**2, 0)\n",
    "print(np.sum(res))\n",
    "j = 0.5*(np.sum(res) + np.sum(u**2) + np.sum(v**2))\n",
    "print(j)"
   ]
  },
  {
   "cell_type": "code",
   "execution_count": 3,
   "id": "f9b35167-8088-4465-b684-dd9692b081d7",
   "metadata": {},
   "outputs": [
    {
     "name": "stdout",
     "output_type": "stream",
     "text": [
      "[[-0.  1. -0.  1. -0.  1. -0.]\n",
      " [ 1.  0.  1.  0.  1.  0.  1.]]\n"
     ]
    }
   ],
   "source": [
    "Y = np.array([5, 1, 5, 1, 5, 1, 5, 1, 5, 1, 5, 1, 5, 1, 5, 5, 5, 5, 5, 5, 5, 1, 1, 1, 1, 1, 1, 1]).reshape(4, 7)\n",
    "U = np.array([1, 5, 5, 1, 5, 5, 1, 1]).reshape(4, 2)\n",
    "Vt = np.linalg.inv(U.T@U)@U.T@Y\n",
    "print(np.round(Vt.tolist(), 3))"
   ]
  },
  {
   "cell_type": "code",
   "execution_count": 4,
   "id": "738af3d5-fd42-441c-bb8f-6df3f30178fb",
   "metadata": {},
   "outputs": [
    {
     "data": {
      "text/plain": [
       "array([[0.492],\n",
       "       [0.051]])"
      ]
     },
     "execution_count": 4,
     "metadata": {},
     "output_type": "execute_result"
    }
   ],
   "source": [
    "B0 = np.array([[1, 10], [1, 10], [10, 1], [1, 10], [10, 1] ])\n",
    "Z0 = np.array([[1], [1], [5], [1], [5]])\n",
    "ua = np.linalg.inv(B0.T@B0 + np.identity(2))@B0.T@Z0\n",
    "np.round(ua, 3)"
   ]
  },
  {
   "cell_type": "code",
   "execution_count": 5,
   "id": "a22e3348-a317-47e4-baa8-8b146277f00c",
   "metadata": {},
   "outputs": [],
   "source": [
    "u_a_no_b = np.array( [[0.50148126], [0.0562376 ]])\n",
    "u_a, b_u_a = np.array([[ 0.22024566], [-0.22193986]]), 0.007623888182962335"
   ]
  },
  {
   "cell_type": "code",
   "execution_count": 7,
   "id": "f3ce0ca1-94cf-40df-b3dd-ed8e593ad6a3",
   "metadata": {},
   "outputs": [
    {
     "data": {
      "text/plain": [
       "array([[5.0710502]])"
      ]
     },
     "execution_count": 7,
     "metadata": {},
     "output_type": "execute_result"
    }
   ],
   "source": [
    "# no offset\n",
    "u_a_no_b.reshape(1, -1)@np.array([10, 1]).reshape(-1, 1)"
   ]
  },
  {
   "cell_type": "code",
   "execution_count": 8,
   "id": "9e86da4d-e392-4eaa-bedb-c17278bd15b9",
   "metadata": {},
   "outputs": [
    {
     "data": {
      "text/plain": [
       "array([[1.98814063]])"
      ]
     },
     "execution_count": 8,
     "metadata": {},
     "output_type": "execute_result"
    }
   ],
   "source": [
    "u_a.reshape(1, -1)@np.array([10, 1]).reshape(-1, 1) + b_u_a"
   ]
  },
  {
   "cell_type": "code",
   "execution_count": 9,
   "id": "357d9ac3-a438-43ff-a3cd-a660a1e3d0f6",
   "metadata": {},
   "outputs": [
    {
     "data": {
      "text/plain": [
       "array([[1.06385726]])"
      ]
     },
     "execution_count": 9,
     "metadata": {},
     "output_type": "execute_result"
    }
   ],
   "source": [
    "u_a_no_b.reshape(1, -1)@np.array([1, 10]).reshape(-1, 1)"
   ]
  },
  {
   "cell_type": "code",
   "execution_count": 10,
   "id": "69f27b45-6f1f-4ca3-934c-6cf93faf64da",
   "metadata": {},
   "outputs": [
    {
     "data": {
      "text/plain": [
       "array([[3.00847095]])"
      ]
     },
     "execution_count": 10,
     "metadata": {},
     "output_type": "execute_result"
    }
   ],
   "source": [
    "u_a.reshape(1, -1)@np.array([1, 10]).reshape(-1, 1) + b_u_a + 5"
   ]
  }
 ],
 "metadata": {
  "kernelspec": {
   "display_name": "Python 3 (ipykernel)",
   "language": "python",
   "name": "python3"
  },
  "language_info": {
   "codemirror_mode": {
    "name": "ipython",
    "version": 3
   },
   "file_extension": ".py",
   "mimetype": "text/x-python",
   "name": "python",
   "nbconvert_exporter": "python",
   "pygments_lexer": "ipython3",
   "version": "3.10.9"
  }
 },
 "nbformat": 4,
 "nbformat_minor": 5
}
