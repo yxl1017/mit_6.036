{
 "cells": [
  {
   "cell_type": "code",
   "execution_count": 1,
   "id": "d76645df-bac0-4de9-81ff-832004dfba58",
   "metadata": {},
   "outputs": [
    {
     "data": {
      "text/plain": [
       "[[24, 12, 6], [0, 0, 0], [12, 6, 3], [24, 12, 6]]"
      ]
     },
     "execution_count": 1,
     "metadata": {},
     "output_type": "execute_result"
    }
   ],
   "source": [
    "import numpy as np\n",
    "u = np.array([6, 0, 3, 6]).reshape(-1, 1)\n",
    "v = np.array([4, 2, 1]).reshape(-1, 1)\n",
    "x = u@v.T\n",
    "x.tolist()"
   ]
  },
  {
   "cell_type": "code",
   "execution_count": 2,
   "id": "4308e67f-af53-45fc-ab5d-adbc14fd7659",
   "metadata": {},
   "outputs": [
    {
     "name": "stdout",
     "output_type": "stream",
     "text": [
      "511\n",
      "306.5\n"
     ]
    }
   ],
   "source": [
    "y = np.array([5, 0, 7, 0, 2, 0, 4, 0, 0, 0, 3, 6]).reshape(4, 3)\n",
    "res = np.where(y != 0, (x-y)**2, 0)\n",
    "print(np.sum(res))\n",
    "j = 0.5*(np.sum(res) + np.sum(u**2) + np.sum(v**2))\n",
    "print(j)"
   ]
  },
  {
   "cell_type": "code",
   "execution_count": 3,
   "id": "f9b35167-8088-4465-b684-dd9692b081d7",
   "metadata": {},
   "outputs": [
    {
     "name": "stdout",
     "output_type": "stream",
     "text": [
      "[[-0.  1. -0.  1. -0.  1. -0.]\n",
      " [ 1.  0.  1.  0.  1.  0.  1.]]\n"
     ]
    }
   ],
   "source": [
    "Y = np.array([5, 1, 5, 1, 5, 1, 5, 1, 5, 1, 5, 1, 5, 1, 5, 5, 5, 5, 5, 5, 5, 1, 1, 1, 1, 1, 1, 1]).reshape(4, 7)\n",
    "U = np.array([1, 5, 5, 1, 5, 5, 1, 1]).reshape(4, 2)\n",
    "Vt = np.linalg.inv(U.T@U)@U.T@Y\n",
    "print(np.round(Vt.tolist(), 3))"
   ]
  },
  {
   "cell_type": "code",
   "execution_count": 4,
   "id": "738af3d5-fd42-441c-bb8f-6df3f30178fb",
   "metadata": {},
   "outputs": [
    {
     "data": {
      "text/plain": [
       "array([[0.492],\n",
       "       [0.051]])"
      ]
     },
     "execution_count": 4,
     "metadata": {},
     "output_type": "execute_result"
    }
   ],
   "source": [
    "B0 = np.array([[1, 10], [1, 10], [10, 1], [1, 10], [10, 1] ])\n",
    "Z0 = np.array([[1], [1], [5], [1], [5]])\n",
    "ua = np.linalg.inv(B0.T@B0 + np.identity(2))@B0.T@Z0\n",
    "np.round(ua, 3)"
   ]
  },
  {
   "cell_type": "code",
   "execution_count": 5,
   "id": "a22e3348-a317-47e4-baa8-8b146277f00c",
   "metadata": {},
   "outputs": [],
   "source": [
    "u_a_no_b = np.array( [[0.50148126], [0.0562376 ]])\n",
    "u_a, b_u_a = np.array([[ 0.22024566], [-0.22193986]]), 0.007623888182962335"
   ]
  },
  {
   "cell_type": "code",
   "execution_count": 6,
   "id": "f3ce0ca1-94cf-40df-b3dd-ed8e593ad6a3",
   "metadata": {},
   "outputs": [
    {
     "data": {
      "text/plain": [
       "array([[5.0710502]])"
      ]
     },
     "execution_count": 6,
     "metadata": {},
     "output_type": "execute_result"
    }
   ],
   "source": [
    "# no offset\n",
    "u_a_no_b.reshape(1, -1)@np.array([10, 1]).reshape(-1, 1)"
   ]
  },
  {
   "cell_type": "code",
   "execution_count": 7,
   "id": "9e86da4d-e392-4eaa-bedb-c17278bd15b9",
   "metadata": {},
   "outputs": [
    {
     "data": {
      "text/plain": [
       "array([[1.98814063]])"
      ]
     },
     "execution_count": 7,
     "metadata": {},
     "output_type": "execute_result"
    }
   ],
   "source": [
    "u_a.reshape(1, -1)@np.array([10, 1]).reshape(-1, 1) + b_u_a"
   ]
  },
  {
   "cell_type": "code",
   "execution_count": 8,
   "id": "357d9ac3-a438-43ff-a3cd-a660a1e3d0f6",
   "metadata": {},
   "outputs": [
    {
     "data": {
      "text/plain": [
       "array([[1.06385726]])"
      ]
     },
     "execution_count": 8,
     "metadata": {},
     "output_type": "execute_result"
    }
   ],
   "source": [
    "u_a_no_b.reshape(1, -1)@np.array([1, 10]).reshape(-1, 1)"
   ]
  },
  {
   "cell_type": "code",
   "execution_count": 9,
   "id": "69f27b45-6f1f-4ca3-934c-6cf93faf64da",
   "metadata": {},
   "outputs": [
    {
     "data": {
      "text/plain": [
       "array([[3.00847095]])"
      ]
     },
     "execution_count": 9,
     "metadata": {},
     "output_type": "execute_result"
    }
   ],
   "source": [
    "u_a.reshape(1, -1)@np.array([1, 10]).reshape(-1, 1) + b_u_a + 5"
   ]
  },
  {
   "cell_type": "code",
   "execution_count": 10,
   "id": "6479bd60-7a86-4ce6-9c7e-5295f691fe19",
   "metadata": {},
   "outputs": [
    {
     "name": "stdout",
     "output_type": "stream",
     "text": [
      "With offsets [[ 0.22024566]\n",
      " [-0.22193986]] 0.007623888182962335\n",
      "With no offsets [[0.50148126]\n",
      " [0.0562376 ]]\n",
      "ALS result for k = 2 : rmse train = [[0.00524272]] ; rmse validate = [[0.00524272]]\n",
      "SGD result for k = 2 : rmse train = [[0.00462028]] ; rmse validate = [[0.00462028]]\n"
     ]
    }
   ],
   "source": [
    "from code_for_hw12 import *"
   ]
  },
  {
   "cell_type": "code",
   "execution_count": 11,
   "id": "258e8c2d-3001-403f-abcd-d0eaa147d804",
   "metadata": {},
   "outputs": [
    {
     "name": "stdout",
     "output_type": "stream",
     "text": [
      "Loading from ratings.csv users 13366 items 2000\n",
      "Iteration 1 finished. Total Elapsed Time: 3.12\n",
      "Iteration 2 finished. Total Elapsed Time: 6.15\n",
      "Iteration 3 finished. Total Elapsed Time: 9.23\n",
      "Iteration 4 finished. Total Elapsed Time: 12.25\n",
      "Iteration 5 finished. Total Elapsed Time: 15.16\n",
      "Iteration 6 finished. Total Elapsed Time: 18.18\n",
      "Iteration 7 finished. Total Elapsed Time: 22.03\n",
      "Iteration 8 finished. Total Elapsed Time: 25.65\n",
      "Iteration 9 finished. Total Elapsed Time: 29.85\n",
      "Iteration 10 finished. Total Elapsed Time: 35.02\n",
      "Iteration 11 finished. Total Elapsed Time: 39.21\n",
      "Iteration 12 finished. Total Elapsed Time: 43.96\n",
      "Iteration 13 finished. Total Elapsed Time: 47.70\n",
      "Iteration 14 finished. Total Elapsed Time: 51.28\n",
      "Iteration 15 finished. Total Elapsed Time: 54.88\n",
      "Iteration 16 finished. Total Elapsed Time: 58.56\n",
      "Iteration 17 finished. Total Elapsed Time: 63.71\n",
      "Iteration 18 finished. Total Elapsed Time: 69.83\n",
      "Iteration 19 finished. Total Elapsed Time: 75.69\n",
      "Iteration 20 finished. Total Elapsed Time: 80.67\n"
     ]
    }
   ],
   "source": [
    "data = load_ratings_data()\n",
    "movies_dict, genres_dict = load_movies()\n",
    "model = mf_als(data, None, k=10, lam=1, max_iter=20)\n",
    "save_model(model)"
   ]
  },
  {
   "cell_type": "code",
   "execution_count": 12,
   "id": "0e4c62bb-041f-4e75-a1a0-c493c2debcd9",
   "metadata": {},
   "outputs": [],
   "source": [
    "model = load_model()\n",
    "(u, b_u, v, b_v) = model\n",
    "user_id = 270894"
   ]
  },
  {
   "cell_type": "code",
   "execution_count": 13,
   "id": "61c384af-a89d-4e90-ba5b-c330a10373bc",
   "metadata": {},
   "outputs": [
    {
     "name": "stdout",
     "output_type": "stream",
     "text": [
      "{'Western': 0, 'Comedy': 42, 'Children': 58, 'Crime': 6, 'Musical': 23, 'Adventure': 46, 'Drama': 27, 'Horror': 3, 'War': 2, 'Documentary': 0, 'Romance': 16, 'Animation': 74, 'Film-Noir': 0, 'Sci-Fi': 15, 'Mystery': 4, 'Fantasy': 31, 'IMAX': 12, 'Action': 20, 'Thriller': 8}\n",
      "Animation\n"
     ]
    }
   ],
   "source": [
    "genre_dict = {genre: 0 for genre in genres}\n",
    "seen = []\n",
    "for a, i, r in data:\n",
    "    if a == user_id:\n",
    "        seen.append(i)\n",
    "    if a == user_id and r == 5:\n",
    "        for genre in genres_dict[i]:\n",
    "            genre_dict[genre] += 1\n",
    "print(genre_dict)\n",
    "print(max(genre_dict, key=genre_dict.get))"
   ]
  },
  {
   "cell_type": "code",
   "execution_count": 14,
   "id": "a93204b9-2e56-4157-848c-886ffb0ad572",
   "metadata": {},
   "outputs": [
    {
     "name": "stdout",
     "output_type": "stream",
     "text": [
      "21\n"
     ]
    }
   ],
   "source": [
    "prediction = []\n",
    "for key in movies_dict:\n",
    "    if key not in seen:\n",
    "        pred = u[user_id].T@v[key] + b_u[user_id] + b_v[key]\n",
    "        #print(pred)\n",
    "        prediction.append((key, genres_dict[key], pred.item()))\n",
    "sorted_pred = sorted(prediction, reverse=True, key=lambda x: x[2])\n",
    "\n",
    "n = 0\n",
    "for i in range(50):\n",
    "    if 'Animation' in sorted_pred[i][1]:\n",
    "        n += 1\n",
    "print(n)"
   ]
  },
  {
   "cell_type": "code",
   "execution_count": 15,
   "id": "fb2babce-3cb9-48b9-a8b5-b68340de0ac5",
   "metadata": {},
   "outputs": [],
   "source": [
    "def similarity(ia, ib):\n",
    "    # ia and ib are indices\n",
    "    va, vb = v[ia], v[ib]\n",
    "    if ia != ib:\n",
    "        return (sum(va*vb)/(np.linalg.norm(va)*np.linalg.norm(vb))).item()\n",
    "    else:\n",
    "        return 0"
   ]
  },
  {
   "cell_type": "code",
   "execution_count": 16,
   "id": "b6d4743f-aa51-42b0-942e-0215e61ae34a",
   "metadata": {},
   "outputs": [
    {
     "name": "stdout",
     "output_type": "stream",
     "text": [
      "Star Wars: Episode V - The Empire Strikes Back (1980)\n",
      "Star Wars: Episode VI - Return of the Jedi (1983)\n",
      "Raiders of the Lost Ark (Indiana Jones and the Raiders of the Lost Ark) (1981)\n",
      "Star Wars: Episode III - Revenge of the Sith (2005)\n",
      "Indiana Jones and the Last Crusade (1989)\n",
      "\"Lord of the Rings: The Two Towers, The (2002)\"\n",
      "\"Lord of the Rings: The Fellowship of the Ring, The (2001)\"\n",
      "Ben-Hur (1959)\n",
      "\"Lord of the Rings: The Return of the King, The (2003)\"\n",
      "\"Lord of the Rings, The (1978)\"\n",
      "[1196, 1210, 1198, 33493, 1291, 5952, 4993, 1287, 7153, 2116]\n"
     ]
    }
   ],
   "source": [
    "ia = 260\n",
    "sims = []\n",
    "for key in movies_dict:\n",
    "    sim = similarity(ia, key)\n",
    "    sims.append((key, sim))\n",
    "sims_sorted = sorted(sims,reverse=True, key=lambda x: x[1])\n",
    "\n",
    "sim260 = []\n",
    "n = 0\n",
    "\n",
    "for key, r in sims_sorted:\n",
    "    if key in movies_dict:\n",
    "        print(movies_dict[key])\n",
    "        sim260.append(key)\n",
    "        n += 1\n",
    "    if n == 10:\n",
    "        break\n",
    "print(sim260)"
   ]
  },
  {
   "cell_type": "code",
   "execution_count": 17,
   "id": "6b40ee56-ab1a-4219-96f4-723b31c5f567",
   "metadata": {},
   "outputs": [
    {
     "name": "stdout",
     "output_type": "stream",
     "text": [
      "Star Wars: Episode II - Attack of the Clones (2002)\n",
      "Star Wars: Episode III - Revenge of the Sith (2005)\n",
      "Indiana Jones and the Kingdom of the Crystal Skull (2008)\n",
      "\"Matrix Reloaded, The (2003)\"\n",
      "Pirates of the Caribbean: At World's End (2007)\n",
      "Pirates of the Caribbean: Dead Man's Chest (2006)\n",
      "Spider-Man 3 (2007)\n",
      "\"Matrix Revolutions, The (2003)\"\n",
      "\"Lord of the Rings, The (1978)\"\n",
      "\"X-Files: Fight the Future, The (1998)\"\n",
      "[5378, 33493, 59615, 6365, 53125, 45722, 52722, 6934, 2116, 1909]\n"
     ]
    }
   ],
   "source": [
    "ia = 2628\n",
    "sims = []\n",
    "for key in movies_dict:\n",
    "    sim = similarity(ia, key)\n",
    "    sims.append((key, sim))\n",
    "sims_sorted = sorted(sims,reverse=True, key=lambda x: x[1])\n",
    "\n",
    "sim2628 = []\n",
    "n = 0\n",
    "\n",
    "for key, r in sims_sorted:\n",
    "    if key in movies_dict:\n",
    "        print(movies_dict[key])\n",
    "        sim2628.append(key)\n",
    "        n += 1\n",
    "    if n == 10:\n",
    "        break\n",
    "print(sim2628)"
   ]
  },
  {
   "cell_type": "code",
   "execution_count": 41,
   "id": "59fd170a-2c48-4f41-8c88-406c3d56aa42",
   "metadata": {},
   "outputs": [],
   "source": [
    "key_li = sorted(list(movies_dict.keys()))"
   ]
  },
  {
   "cell_type": "code",
   "execution_count": 50,
   "id": "517752c4-5428-4912-a54d-0fe245880304",
   "metadata": {},
   "outputs": [],
   "source": [
    "def ave_sim(index_list):\n",
    "    sims = []\n",
    "    for i in range(len(index_list)):\n",
    "        ia = index_list[i]\n",
    "        for j in range(i+1, len(index_list)):\n",
    "            ib = index_list[j]\n",
    "            sim = similarity(ia, ib)\n",
    "            sims.append(sim)\n",
    "    return np.mean(sims)"
   ]
  },
  {
   "cell_type": "code",
   "execution_count": 52,
   "id": "fd05c582-79f6-419b-bd6a-095ce1f648bd",
   "metadata": {},
   "outputs": [
    {
     "data": {
      "text/plain": [
       "0.004618852621916971"
      ]
     },
     "execution_count": 52,
     "metadata": {},
     "output_type": "execute_result"
    }
   ],
   "source": [
    "ave_sim(key_li)"
   ]
  },
  {
   "cell_type": "code",
   "execution_count": 48,
   "id": "a5c09175-8ed0-44be-a3f5-29538e829cac",
   "metadata": {},
   "outputs": [],
   "source": [
    "indices_by_genres = {}\n",
    "for key in genres_dict:\n",
    "    for genre in genres_dict[key]:\n",
    "        try:\n",
    "            indices_by_genres[genre].append(key)\n",
    "        except:\n",
    "            indices_by_genres[genre] = [key]"
   ]
  },
  {
   "cell_type": "code",
   "execution_count": 53,
   "id": "c433829d-7346-4502-a9a9-1d0f65f8cb05",
   "metadata": {},
   "outputs": [
    {
     "name": "stdout",
     "output_type": "stream",
     "text": [
      "Adventure 0.07569592961693077\n",
      "Animation 0.32538401087252183\n",
      "Children 0.2706343858484362\n",
      "Comedy 0.06823034872162335\n",
      "Fantasy 0.0971507959688138\n",
      "Romance 0.07036949414949016\n",
      "Drama 0.06328884087958996\n",
      "Action 0.12106102353909677\n",
      "Crime 0.06505605368371047\n",
      "Thriller 0.0709801119312924\n",
      "Horror 0.24023964920332577\n",
      "Mystery 0.07629346341343105\n",
      "Sci-Fi 0.13710664217463053\n",
      "War 0.1176460873947331\n",
      "Musical 0.26344736882275616\n",
      "IMAX 0.2700704450105055\n",
      "Documentary 0.34008200754409407\n",
      "Western 0.1476724994949762\n",
      "Film-Noir 0.44912771006269586\n"
     ]
    }
   ],
   "source": [
    "for genre in indices_by_genres:\n",
    "    indices = indices_by_genres[genre]\n",
    "    print(genre, ave_sim(indices))    "
   ]
  },
  {
   "cell_type": "code",
   "execution_count": 56,
   "id": "70a8f0d4-8fb8-4cae-89a9-ac0b3a3ebf9d",
   "metadata": {},
   "outputs": [],
   "source": [
    "def sim_between_genres(g1, g2):\n",
    "    # g1 g2 are indices\n",
    "    sims = []\n",
    "    for i in range(len(g1)):\n",
    "        ia = g1[i]\n",
    "        for j in range(len(g2)):\n",
    "            ib = g2[j]\n",
    "            sim = similarity(ia, ib)\n",
    "            sims.append(sim)\n",
    "    return np.mean(sims)"
   ]
  },
  {
   "cell_type": "code",
   "execution_count": 57,
   "id": "2e5fa5f3-1c99-4213-becb-96e4fdc07a36",
   "metadata": {},
   "outputs": [
    {
     "name": "stdout",
     "output_type": "stream",
     "text": [
      "Adventure 0.007669058971249872\n",
      "Animation 0.07189868577882132\n",
      "Children 0.07596942465023895\n",
      "Fantasy 0.028210924581107327\n",
      "Romance 0.03296878557421564\n",
      "Drama -0.022653552155691942\n",
      "Action -0.014491908207798655\n",
      "Crime -0.01698772707983787\n",
      "Thriller -0.037209479741505014\n",
      "Horror -0.04543365008962901\n",
      "Mystery -0.03685894351614624\n",
      "Sci-Fi -0.02250920152920314\n",
      "War -0.0574214843121002\n",
      "Musical 0.06982629035334435\n",
      "IMAX -0.02781834570112349\n",
      "Documentary 0.03452409476163227\n",
      "Western -0.006164776046044933\n",
      "Film-Noir -0.04187309625828562\n"
     ]
    }
   ],
   "source": [
    "g1 = indices_by_genres['Comedy']\n",
    "for genre in indices_by_genres:\n",
    "    if genre != 'Comedy':\n",
    "        g2 = indices_by_genres[genre]\n",
    "        res = sim_between_genres(g1, g2)\n",
    "        print(genre, res)        "
   ]
  }
 ],
 "metadata": {
  "kernelspec": {
   "display_name": "Python 3 (ipykernel)",
   "language": "python",
   "name": "python3"
  },
  "language_info": {
   "codemirror_mode": {
    "name": "ipython",
    "version": 3
   },
   "file_extension": ".py",
   "mimetype": "text/x-python",
   "name": "python",
   "nbconvert_exporter": "python",
   "pygments_lexer": "ipython3",
   "version": "3.10.9"
  }
 },
 "nbformat": 4,
 "nbformat_minor": 5
}
