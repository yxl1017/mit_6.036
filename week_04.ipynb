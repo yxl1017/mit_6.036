{
 "cells": [
  {
   "cell_type": "code",
   "execution_count": 2,
   "id": "47ab9d5a-20c7-4044-9bb2-ce975a6ef736",
   "metadata": {},
   "outputs": [
    {
     "name": "stdout",
     "output_type": "stream",
     "text": [
      "[1.]\n",
      "1.0\n"
     ]
    }
   ],
   "source": [
    "import numpy as np\n",
    "from sklearn.linear_model import LinearRegression\n",
    "X = np.array([1, 1, 3, 3]).reshape(-1, 1)\n",
    "y = np.array([3, 1, 2, 6])\n",
    "model = LinearRegression().fit(X, y)\n",
    "print(model.coef_)\n",
    "print(model.intercept_)"
   ]
  },
  {
   "cell_type": "code",
   "execution_count": 3,
   "id": "cf14293d-76e7-40c5-a031-41657c4df097",
   "metadata": {
    "tags": []
   },
   "outputs": [],
   "source": [
    "def cv(value_list):\n",
    "    '''\n",
    "    Takes a list of numbers and returns a column vector:  n x 1\n",
    "    '''\n",
    "    return np.transpose(rv(value_list))\n",
    "\n",
    "def rv(value_list):\n",
    "    '''\n",
    "    Takes a list of numbers and returns a row vector: 1 x n\n",
    "    '''\n",
    "    return np.array([value_list])\n",
    "\n",
    "def margin_point(x, y, th, th0):\n",
    "    '''\n",
    "    x: cv\n",
    "    y: scaler\n",
    "    '''\n",
    "    return y*(th.T@x + th0)/np.linalg.norm(th)\n",
    "    \n",
    "def margin_sum(X, y, th, th0):\n",
    "    '''\n",
    "    X: d by n matrix\n",
    "    y: 1 by n rv\n",
    "    th: d by 1 cv\n",
    "    return scaler\n",
    "    '''\n",
    "    M = []\n",
    "    for i in range(X.shape[1]):\n",
    "        x = X[:, i]\n",
    "        y_scaler = y[:, i].item()\n",
    "        m = margin_point(x, y_scaler, th, th0)\n",
    "        M.append(m)     \n",
    "    return sum(M).item()\n",
    "\n",
    "def margin_min(X, y, th, th0):\n",
    "    '''\n",
    "    X: d by n matrix\n",
    "    y: 1 by n rv\n",
    "    th: d by 1 cv\n",
    "    return scaler\n",
    "    '''\n",
    "    M = []\n",
    "    for i in range(X.shape[1]):\n",
    "        x = X[:, i]\n",
    "        y_scaler = y[:, i].item()\n",
    "        m = margin_point(x, y_scaler, th, th0)\n",
    "        M.append(m)     \n",
    "    return min(M).item()\n",
    "\n",
    "def margin_max(X, y, th, th0):\n",
    "    '''\n",
    "    X: d by n matrix\n",
    "    y: 1 by n rv\n",
    "    th: d by 1 cv\n",
    "    return scaler\n",
    "    '''\n",
    "    M = []\n",
    "    for i in range(X.shape[1]):\n",
    "        x = X[:, i]\n",
    "        y_scaler = y[:, i].item()\n",
    "        m = margin_point(x, y_scaler, th, th0)\n",
    "        M.append(m)     \n",
    "    return max(M).item()"
   ]
  },
  {
   "cell_type": "code",
   "execution_count": 4,
   "id": "b608c022-b77f-4ed2-9267-4cae56bf1446",
   "metadata": {},
   "outputs": [],
   "source": [
    "data = np.array([[1, 2, 1, 2, 10, 10.3, 10.5, 10.7],\n",
    "                 [1, 1, 2, 2,  2,  2,  2, 2]])\n",
    "labels = np.array([[-1, -1, 1, 1, 1, 1, 1, 1]])\n",
    "blue_th = np.array([[0, 1]]).T\n",
    "blue_th0 = -1.5\n",
    "red_th = np.array([[1, 0]]).T\n",
    "red_th0 = -2.5"
   ]
  },
  {
   "cell_type": "code",
   "execution_count": 5,
   "id": "6a6d5f5b-25e3-4d89-af93-72aa18dd68b3",
   "metadata": {},
   "outputs": [
    {
     "data": {
      "text/plain": [
       "31.5"
      ]
     },
     "execution_count": 5,
     "metadata": {},
     "output_type": "execute_result"
    }
   ],
   "source": [
    "margin_sum(data, labels, red_th, red_th0)"
   ]
  },
  {
   "cell_type": "code",
   "execution_count": 6,
   "id": "93d1f8c0-dddb-4385-9e14-bff8376cea30",
   "metadata": {},
   "outputs": [
    {
     "name": "stdout",
     "output_type": "stream",
     "text": [
      "-1.5\n",
      "8.2\n"
     ]
    }
   ],
   "source": [
    "print(margin_min(data, labels, red_th, red_th0))\n",
    "print(margin_max(data, labels, red_th, red_th0))"
   ]
  },
  {
   "cell_type": "code",
   "execution_count": 7,
   "id": "dd0f66de-8bd1-4925-9cb5-826826dd2092",
   "metadata": {},
   "outputs": [
    {
     "name": "stdout",
     "output_type": "stream",
     "text": [
      "4.0\n",
      "0.5\n",
      "0.5\n"
     ]
    }
   ],
   "source": [
    "print(margin_sum(data, labels, blue_th, blue_th0))\n",
    "print(margin_min(data, labels, blue_th, blue_th0))\n",
    "print(margin_max(data, labels, blue_th, blue_th0))"
   ]
  },
  {
   "cell_type": "code",
   "execution_count": 10,
   "id": "3665f717-7c1a-4a4a-ae9c-e6db89b51a56",
   "metadata": {},
   "outputs": [],
   "source": [
    "def hinge_loss(x, y, th, th0, gamma):\n",
    "    if margin_point(x, y, th, th0) < gamma:\n",
    "        return (1 - margin_point(x, y, th, th0)/gamma).item()\n",
    "    else:\n",
    "        return 0"
   ]
  },
  {
   "cell_type": "code",
   "execution_count": 11,
   "id": "848070dc-7734-4ae4-a1b8-35c44ea627ca",
   "metadata": {},
   "outputs": [
    {
     "name": "stdout",
     "output_type": "stream",
     "text": [
      "[0.7999999999999998, 0, 3.0]\n"
     ]
    }
   ],
   "source": [
    "data = np.array([[1.1, 1, 4],[3.1, 1, 2]])\n",
    "labels = np.array([[1, -1, -1]])\n",
    "th = np.array([[1, 1]]).T\n",
    "th0 = -4\n",
    "\n",
    "li = []\n",
    "for i in range(data.shape[1]):\n",
    "    x = data[:, i]\n",
    "    y = labels[:, i].item()\n",
    "    li.append(hinge_loss(x, y, th, th0, 2**0.5/2))\n",
    "print(li)"
   ]
  },
  {
   "cell_type": "code",
   "execution_count": 1,
   "id": "6275e554-6a5b-4c03-a7d8-9dc8b09185d4",
   "metadata": {},
   "outputs": [],
   "source": [
    "#HW\n",
    "import numpy as np\n",
    "def rv(value_list):\n",
    "    return np.array([value_list])\n",
    "\n",
    "def cv(value_list):\n",
    "    return np.transpose(rv(value_list))\n",
    "\n",
    "def f1(x):\n",
    "    return float((2 * x + 3)**2)\n",
    "\n",
    "def df1(x):\n",
    "    return 2 * 2 * (2 * x + 3)\n",
    "\n",
    "def f2(v):\n",
    "    x = float(v[0]); y = float(v[1])\n",
    "    return (x - 2.) * (x - 3.) * (x + 3.) * (x + 1.) + (x + y -1)**2\n",
    "\n",
    "def df2(v):\n",
    "    x = float(v[0]); y = float(v[1])\n",
    "    return cv([(-3. + x) * (-2. + x) * (1. + x) + \\\n",
    "               (-3. + x) * (-2. + x) * (3. + x) + \\\n",
    "               (-3. + x) * (1. + x) * (3. + x) + \\\n",
    "               (-2. + x) * (1. + x) * (3. + x) + \\\n",
    "               2 * (-1. + x + y),\n",
    "               2 * (-1. + x + y)])"
   ]
  },
  {
   "cell_type": "code",
   "execution_count": 12,
   "id": "e588ec55-2068-4370-89bf-be958ff7fda8",
   "metadata": {},
   "outputs": [],
   "source": [
    "def gd(f, df, x0, step_size_fn, max_iter):\n",
    "    '''\n",
    "    f: a function whose input is an x, a column vector, and returns a scalar.\n",
    "    df: a function whose input is an x, a column vector, and returns a column vector representing the gradient of f at x.\n",
    "    x0: an initial value of x, which is a column vector.\n",
    "    step_size_fn: a function that is given the iteration index (an integer) and returns a step size.\n",
    "    max_iter: the number of iterations to perform\n",
    "    \n",
    "    return:\n",
    "    x: the value at the final step\n",
    "    fs: the list of values of f found during all the iterations (including f(x0))\n",
    "    xs: the list of values of x found during all the iterations (including x0)\n",
    "    '''\n",
    "    xs = [x0]\n",
    "    fs = [f(x0)]\n",
    "    t = 0\n",
    "    x = x0\n",
    "    while t <= max_iter:\n",
    "        t += 1\n",
    "        x = x- step_size_fn(t)*df(x)\n",
    "        xs.append(x)\n",
    "        fs.append(f(x))\n",
    "    return (x, fs, xs)"
   ]
  },
  {
   "cell_type": "code",
   "execution_count": 13,
   "id": "8dc79aa0-d311-4d20-a42e-de42f70a9912",
   "metadata": {},
   "outputs": [
    {
     "name": "stdout",
     "output_type": "stream",
     "text": [
      "[[[-1.5]], [9.0, 0.0], [[[0.0]], [[-1.5]]]]\n",
      "[[[-2.205823904175539], [3.205823891191735]], [19.0, -20.967239611348745], [[[0.0], [0.0]], [[-2.205823904175539], [3.205823891191735]]]]\n"
     ]
    }
   ],
   "source": [
    "def package_ans(gd_vals):\n",
    "    x, fs, xs = gd_vals\n",
    "    return [x.tolist(), [fs[0], fs[-1]], [xs[0].tolist(), xs[-1].tolist()]]\n",
    "# Test case 1\n",
    "ans=package_ans(gd(f1, df1, cv([0.]), lambda i: 0.1, 1000))\n",
    "print(ans)\n",
    "# Test case 2\n",
    "ans=package_ans(gd(f2, df2, cv([0., 0.]), lambda i: 0.01, 1000))\n",
    "print(ans)"
   ]
  },
  {
   "cell_type": "code",
   "execution_count": 34,
   "id": "b4e74e61-e3d5-4f66-80e3-a9a95a3ac4dd",
   "metadata": {},
   "outputs": [],
   "source": [
    "def num_grad(f, delta=0.001):\n",
    "    def df(x):\n",
    "        # x: column vector\n",
    "        li = []\n",
    "        zeros = np.zeros(x.shape)\n",
    "        for i in range(x.shape[0]):\n",
    "            delta_cv = zeros.copy()\n",
    "            delta_cv[i] = delta\n",
    "            g = (f(x+delta_cv) - f(x-delta_cv))/(2*delta)\n",
    "            li.append(g)\n",
    "        return cv(li)\n",
    "    return df"
   ]
  },
  {
   "cell_type": "code",
   "execution_count": 26,
   "id": "46d17bc8-e57a-45fe-84c7-27d50fc06f6e",
   "metadata": {},
   "outputs": [
    {
     "name": "stdout",
     "output_type": "stream",
     "text": [
      "([[11.999999999998678]], [[0.0]])\n",
      "([[12.799999999999478]], [[0.1]])\n",
      "([[6.99999899999959], [4.999999000000699]], [[0.0], [0.0]])\n",
      "([[4.7739994000011166], [2.773999400002225]], [[0.1], [-0.1]])\n"
     ]
    }
   ],
   "source": [
    "x = cv([0.])\n",
    "ans=(num_grad(f1)(x).tolist(), x.tolist())\n",
    "print(ans)\n",
    "x = cv([0.1])\n",
    "ans=(num_grad(f1)(x).tolist(), x.tolist())\n",
    "print(ans)\n",
    "x = cv([0., 0.])\n",
    "ans=(num_grad(f2)(x).tolist(), x.tolist())\n",
    "print(ans)\n",
    "x = cv([0.1, -0.1])\n",
    "ans=(num_grad(f2)(x).tolist(), x.tolist())\n",
    "print(ans)"
   ]
  },
  {
   "cell_type": "code",
   "execution_count": 33,
   "id": "f8ca7e28-3750-491d-84e8-40ba845a4481",
   "metadata": {},
   "outputs": [],
   "source": [
    "def num_grad(f, delta=0.001):\n",
    "    def df(x):\n",
    "        # x: column vector\n",
    "        li = []\n",
    "        zeros = np.zeros(x.shape)\n",
    "        for i in range(x.shape[0]):\n",
    "            delta_cv = zeros.copy()\n",
    "            print(delta_cv)\n",
    "            delta_cv[i] = delta\n",
    "            print(delta_cv)\n",
    "            g = (f(x+delta_cv) - f(x-delta_cv))/(2*delta)\n",
    "            print(g)\n",
    "            li.append(g)\n",
    "            print(li)\n",
    "        return cv(li)\n",
    "    return df\n",
    "#successfully used print to debug!"
   ]
  },
  {
   "cell_type": "code",
   "execution_count": 35,
   "id": "3c00b43d-6734-49cb-814b-246939012f4a",
   "metadata": {},
   "outputs": [],
   "source": [
    "def minimize(f, x0, step_size_fn, max_iter):\n",
    "    df = num_grad(f, delta=0.001)\n",
    "    x, fs, xs = gd(f, df, x0, step_size_fn, max_iter)\n",
    "    return (x, fs, xs)"
   ]
  },
  {
   "cell_type": "code",
   "execution_count": 36,
   "id": "e3677429-d7a6-4131-9824-8327fb7befe7",
   "metadata": {},
   "outputs": [
    {
     "name": "stdout",
     "output_type": "stream",
     "text": [
      "[[[-1.5]], [9.0, 0.0], [[[0.0]], [[-1.5]]]]\n",
      "[[[-2.2058237062164276], [3.205823693232599]], [19.0, -20.967239611347775], [[[0.0], [0.0]], [[-2.2058237062164276], [3.205823693232599]]]]\n"
     ]
    }
   ],
   "source": [
    "ans = package_ans(minimize(f1, cv([0.]), lambda i: 0.1, 1000))\n",
    "print(ans)\n",
    "ans = package_ans(minimize(f2, cv([0., 0.]), lambda i: 0.01, 1000))\n",
    "print(ans)"
   ]
  },
  {
   "cell_type": "code",
   "execution_count": 53,
   "id": "a5c720b2-c7ac-41be-a147-739d30a247f9",
   "metadata": {},
   "outputs": [],
   "source": [
    "def hinge(v):\n",
    "    return max(1-v, 0)\n",
    "\n",
    "# x is dxn, y is 1xn, th is dx1, th0 is 1x1\n",
    "def hinge_loss(x, y, th, th0):\n",
    "    return hinge(y*(th.T@x + th0))   \n",
    "\n",
    "# x is dxn, y is 1xn, th is dx1, th0 is 1x1, lam is a scalar\n",
    "def svm_obj(x, y, th, th0, lam):\n",
    "    li = []\n",
    "    for i in range(x.shape[1]):\n",
    "        li.append(hinge_loss(x[:, i], y[:, i], th, th0))\n",
    "    return (sum(li)/x.shape[1] + lam*np.linalg.norm(th)**2).item()"
   ]
  },
  {
   "cell_type": "code",
   "execution_count": 50,
   "id": "062f1ce8-2455-4585-a266-b9edb291951e",
   "metadata": {},
   "outputs": [
    {
     "name": "stdout",
     "output_type": "stream",
     "text": [
      "0.15668396890496103\n",
      "0.0\n"
     ]
    }
   ],
   "source": [
    "def super_simple_separable():\n",
    "    X = np.array([[2, 3, 9, 12],\n",
    "                  [5, 2, 6, 5]])\n",
    "    y = np.array([[1, -1, 1, -1]])\n",
    "    return X, y\n",
    "\n",
    "sep_e_separator = np.array([[-0.40338351], [1.1849563]]), np.array([[-2.26910091]])\n",
    "\n",
    "# Test case 1\n",
    "x_1, y_1 = super_simple_separable()\n",
    "th1, th1_0 = sep_e_separator\n",
    "ans = svm_obj(x_1, y_1, th1, th1_0, .1)\n",
    "print(ans)\n",
    "# Test case 2\n",
    "ans = svm_obj(x_1, y_1, th1, th1_0, 0.0)\n",
    "print(ans)"
   ]
  },
  {
   "cell_type": "code",
   "execution_count": 54,
   "id": "afd58e62-82d2-43ff-b3fb-0b9ebd5d4da9",
   "metadata": {},
   "outputs": [
    {
     "name": "stdout",
     "output_type": "stream",
     "text": [
      "1.41961793775\n"
     ]
    }
   ],
   "source": [
    "x_1,y_1=super_simple_separable()\n",
    "th1,th1_0=sep_e_separator\n",
    "ans=svm_obj(x_1, y_1, 0.1*th1, th1_0, 0.0)\n",
    "print(ans)"
   ]
  },
  {
   "cell_type": "code",
   "execution_count": 142,
   "id": "6c57ae07-95f1-4db1-8469-bb3ea9200010",
   "metadata": {},
   "outputs": [],
   "source": [
    "# Returns the gradient of hinge(v) with respect to v.\n",
    "def d_hinge(v):\n",
    "    # v: scalar or vector\n",
    "    li = []\n",
    "    for ele in np.nditer(v):\n",
    "        if ele <1:\n",
    "            d = -1\n",
    "        else:\n",
    "            d = 0\n",
    "        li.append(d)\n",
    "    return rv(li)\n",
    "        \n",
    "# Returns the gradient of hinge_loss(x, y, th, th0) with respect to th\n",
    "def d_hinge_loss_th(x, y, th, th0):\n",
    "    # x: vector or matrix\n",
    "    # return: dxn array\n",
    "    return d_hinge(y*(th.T@x + th0))*(y*x)\n",
    "\n",
    "# Returns the gradient of hinge_loss(x, y, th, th0) with respect to th0\n",
    "def d_hinge_loss_th0(x, y, th, th0):\n",
    "    return d_hinge(y*(th.T@x + th0))*y\n",
    "\n",
    "# Returns the gradient of svm_obj(x, y, th, th0) with respect to th\n",
    "def d_svm_obj_th(x, y, th, th0, lam):\n",
    "    # return: dx1 array\n",
    "    return np.mean(d_hinge_loss_th(x, y, th, th0), axis=1).reshape(-1, 1) + 2*lam*th\n",
    "\n",
    "# Returns the gradient of svm_obj(x, y, th, th0) with respect to th0\n",
    "def d_svm_obj_th0(x, y, th, th0, lam):\n",
    "    return np.array([np.mean(d_hinge_loss_th0(x, y, th, th0), axis=1)])\n",
    "\n",
    "# Returns the full gradient as a single vector (which includes both th, th0)\n",
    "def svm_obj_grad(X, y, th, th0, lam):\n",
    "    d_svm_th = d_svm_obj_th(X, y, th, th0, lam).reshape(-1, 1)\n",
    "    d_svm_th0 = d_svm_obj_th0(X, y, th, th0, lam).reshape(-1, 1)\n",
    "    return np.vstack((d_svm_th, d_svm_th0))"
   ]
  },
  {
   "cell_type": "code",
   "execution_count": 140,
   "id": "22c1919e-9b0f-434e-be8e-0aa718849e22",
   "metadata": {},
   "outputs": [
    {
     "data": {
      "text/plain": [
       "[[-0.06], [0.3], [0.0]]"
      ]
     },
     "execution_count": 140,
     "metadata": {},
     "output_type": "execute_result"
    }
   ],
   "source": [
    "X1 = np.array([[1, 2, 3, 9, 10]])\n",
    "y1 = np.array([[1, 1, 1, -1, -1]])\n",
    "th1, th10 = np.array([[-0.31202807]]), np.array([[1.834     ]])\n",
    "X2 = np.array([[2, 3, 9, 12],\n",
    "               [5, 2, 6, 5]])\n",
    "y2 = np.array([[1, -1, 1, -1]])\n",
    "th2, th20=np.array([[ -3.,  15.]]).T, np.array([[ 2.]])\n",
    "\n",
    "d_hinge(np.array([[ 71.]])).tolist()\n",
    "d_hinge(np.array([[ -23.]])).tolist()\n",
    "d_hinge(np.array([[ 71, -23.]])).tolist()\n",
    "\n",
    "d_hinge_loss_th(X2[:,0:1], y2[:,0:1], th2, th20).tolist()\n",
    "d_hinge_loss_th(X2, y2, th2, th20).tolist()\n",
    "d_hinge_loss_th0(X2[:,0:1], y2[:,0:1], th2, th20).tolist()\n",
    "d_hinge_loss_th0(X2, y2, th2, th20).tolist()\n",
    "\n",
    "d_svm_obj_th(X2[:,0:1], y2[:,0:1], th2, th20, 0.01).tolist()\n",
    "d_svm_obj_th(X2, y2, th2, th20, 0.01).tolist()\n",
    "d_svm_obj_th0(X2[:,0:1], y2[:,0:1], th2, th20, 0.01).tolist()\n",
    "d_svm_obj_th0(X2, y2, th2, th20, 0.01).tolist()\n",
    "\n",
    "svm_obj_grad(X2, y2, th2, th20, 0.01).tolist()\n",
    "svm_obj_grad(X2[:,0:1], y2[:,0:1], th2, th20, 0.01).tolist()"
   ]
  },
  {
   "cell_type": "code",
   "execution_count": 150,
   "id": "167caa81-b9ca-4090-af62-63f3a67fc1e3",
   "metadata": {},
   "outputs": [],
   "source": [
    "def batch_svm_min(data, labels, lam):\n",
    "    t = 0\n",
    "    th = np.zeros((data.shape[0], 1))\n",
    "    th0 = 0\n",
    "    x0 = np.zeros((data.shape[0], 1))\n",
    "    def svm_min_step_size_fn(i):\n",
    "        return 2/(i+1)**0.5\n",
    "    step_size_fn = svm_min_step_size_fn\n",
    "    f = \n",
    "    gd(f, df, x0, step_size_fn, 10)\n",
    "    return x, fs, xs"
   ]
  },
  {
   "cell_type": "code",
   "execution_count": 152,
   "id": "d914511a-d561-4784-8b58-2d88cda99cda",
   "metadata": {},
   "outputs": [],
   "source": [
    "def batch_svm_min(data, labels, lam):\n",
    "    def svm_min_step_size_fn(i):\n",
    "        return 2/(i+1)**0.5\n",
    "    init = np.zeros((data.shape[0] + 1, 1))\n",
    "\n",
    "    def f(th):\n",
    "        return svm_obj(data, labels, th[:-1, :], th[-1:,:], lam)\n",
    "\n",
    "    def df(th):\n",
    "        return svm_obj_grad(data, labels, th[:-1, :], th[-1:,:], lam)\n",
    "\n",
    "    x, fs, xs = gd(f, df, init, svm_min_step_size_fn, 10)\n",
    "    return x, fs, xs"
   ]
  },
  {
   "cell_type": "code",
   "execution_count": 153,
   "id": "5f7616f7-2b59-466e-bf1f-c87bd008c4e3",
   "metadata": {},
   "outputs": [
    {
     "name": "stdout",
     "output_type": "stream",
     "text": [
      "[[[-2.5125160909232434], [3.206098815887724], [-0.5045882414318434]], [1.0, 1.2218192217761108], [[[0.0], [0.0], [0.0]], [[-2.5125160909232434], [3.206098815887724], [-0.5045882414318434]]]]\n",
      "[[[1.556034331964525], [0.5799622075645048], [-1.0943976096485772]], [1.0, 0.2562577288004405], [[[0.0], [0.0], [0.0]], [[1.556034331964525], [0.5799622075645048], [-1.0943976096485772]]]]\n"
     ]
    }
   ],
   "source": [
    "def separable_medium():\n",
    "    X = np.array([[2, -1, 1, 1],\n",
    "                  [-2, 2, 2, -1]])\n",
    "    y = np.array([[1, -1, 1, -1]])\n",
    "    return X, y\n",
    "sep_m_separator = np.array([[ 2.69231855], [ 0.67624906]]), np.array([[-3.02402521]])\n",
    "\n",
    "x_1, y_1 = super_simple_separable()\n",
    "ans = package_ans(batch_svm_min(x_1, y_1, 0.0001))\n",
    "print(ans)\n",
    "x_1, y_1 = separable_medium()\n",
    "ans = package_ans(batch_svm_min(x_1, y_1, 0.0001))\n",
    "print(ans)"
   ]
  }
 ],
 "metadata": {
  "kernelspec": {
   "display_name": "Python 3 (ipykernel)",
   "language": "python",
   "name": "python3"
  },
  "language_info": {
   "codemirror_mode": {
    "name": "ipython",
    "version": 3
   },
   "file_extension": ".py",
   "mimetype": "text/x-python",
   "name": "python",
   "nbconvert_exporter": "python",
   "pygments_lexer": "ipython3",
   "version": "3.10.9"
  }
 },
 "nbformat": 4,
 "nbformat_minor": 5
}
