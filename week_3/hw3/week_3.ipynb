{
 "cells": [
  {
   "cell_type": "code",
   "execution_count": 2,
   "id": "bc6a07a1-6e2c-4d9e-816b-ab6f011a0893",
   "metadata": {},
   "outputs": [],
   "source": [
    "def cv(value_list):\n",
    "    '''\n",
    "    Takes a list of numbers and returns a column vector:  n x 1\n",
    "    '''\n",
    "    return np.transpose(rv(value_list))\n",
    "\n",
    "def rv(value_list):\n",
    "    '''\n",
    "    Takes a list of numbers and returns a row vector: 1 x n\n",
    "    '''\n",
    "    return np.array([value_list])\n",
    "\n",
    "def y(x, th, th0):\n",
    "    '''\n",
    "    x is dimension d by 1\n",
    "    th is dimension d by 1\n",
    "    th0 is a scalar\n",
    "    return a 1 by 1 matrix\n",
    "    '''\n",
    "    return np.dot(np.transpose(th), x) + th0\n",
    "\n",
    "def positive(x, th, th0):\n",
    "    '''\n",
    "    x is dimension d by 1\n",
    "    th is dimension d by 1\n",
    "    th0 is dimension 1 by 1\n",
    "    return 1 by 1 matrix of +1, 0, -1\n",
    "    '''\n",
    "    return np.sign(y(x, th, th0))\n",
    "\n",
    "def score(data, labels, th, th0):\n",
    "    '''\n",
    "    data is dimension d by n\n",
    "    labels is dimension 1 by n\n",
    "    ths is dimension d by 1\n",
    "    th0s is dimension 1 by 1\n",
    "    return 1 by 1 matrix of integer indicating number of data points correct for\n",
    "    each separator.\n",
    "    '''\n",
    "    return np.sum(positive(data, th, th0) == labels)"
   ]
  },
  {
   "cell_type": "code",
   "execution_count": 3,
   "id": "68f57ebb-4a5f-4a3a-9cdb-19da8391a27b",
   "metadata": {},
   "outputs": [],
   "source": [
    "import numpy as np\n",
    "data = np.array([[200, 800, 200, 800],\n",
    "             [0.2,  0.2,  0.8,  0.8],\n",
    "                [1, 1, 1, 1]])\n",
    "labels = rv([-1, -1, 1, 1])\n",
    "th = cv([0, 1, -0.5])"
   ]
  },
  {
   "cell_type": "code",
   "execution_count": 4,
   "id": "57deb854-667d-4464-a8e0-29b2db04d6aa",
   "metadata": {},
   "outputs": [],
   "source": [
    "def margin(X, y, th):\n",
    "    '''\n",
    "    X: d by n matrix\n",
    "    y: 1 by n rv\n",
    "    th: d by 1 cv\n",
    "    return scaler\n",
    "    '''\n",
    "    M = []\n",
    "    for i in range(X.shape[1]):\n",
    "        m = y[:, i]*(th.T@cv(X[:, i]))/np.linalg.norm(th)\n",
    "        #print(m)\n",
    "        M.append(m)\n",
    "    return min(M).item()"
   ]
  },
  {
   "cell_type": "code",
   "execution_count": 18,
   "id": "d992a111-75d5-4426-9286-f16220848536",
   "metadata": {
    "tags": []
   },
   "outputs": [
    {
     "data": {
      "text/plain": [
       "0.2683281572999747"
      ]
     },
     "execution_count": 18,
     "metadata": {},
     "output_type": "execute_result"
    }
   ],
   "source": [
    "margin(data, labels, th)"
   ]
  },
  {
   "cell_type": "code",
   "execution_count": 5,
   "id": "9694b733-e6db-4e2f-9bfd-23ac805d82ec",
   "metadata": {},
   "outputs": [],
   "source": [
    "def theotical_bound(X, y, th):\n",
    "    gamma = margin(X, y, th)\n",
    "    R = []\n",
    "    for i in range(X.shape[1]):\n",
    "        r = np.linalg.norm(cv(X[:, i]))\n",
    "        R.append(r)\n",
    "    return (max(R).item()/gamma)**2"
   ]
  },
  {
   "cell_type": "code",
   "execution_count": 24,
   "id": "7b495a90-d218-4a56-8e13-3ace86d1703e",
   "metadata": {},
   "outputs": [
    {
     "data": {
      "text/plain": [
       "8888911.666666672"
      ]
     },
     "execution_count": 24,
     "metadata": {},
     "output_type": "execute_result"
    }
   ],
   "source": [
    "theotical_bound(data, labels, th)"
   ]
  },
  {
   "cell_type": "code",
   "execution_count": 6,
   "id": "fc8e6d93-e082-4c2b-9353-320fabbde862",
   "metadata": {},
   "outputs": [],
   "source": [
    "def perceptron(data, labels, params = {}, hook = None):\n",
    "    T = params.get('T', 100)\n",
    "    (d, n) = data.shape\n",
    "    m = 0\n",
    "    theta = np.zeros((d, 1)); theta_0 = np.zeros((1, 1))\n",
    "    for t in range(T):\n",
    "        for i in range(n):\n",
    "            x = data[:,i:i+1]\n",
    "            y = labels[:,i:i+1]\n",
    "            if y * positive(x, theta, theta_0) <= 0.0:\n",
    "                m += 1\n",
    "                theta = theta + y * x\n",
    "                theta_0 = theta_0 + y\n",
    "                if hook: hook((theta, theta_0))\n",
    "    return theta, theta_0"
   ]
  },
  {
   "cell_type": "code",
   "execution_count": 41,
   "id": "ce9e3edd-be2b-4053-a9ad-ca7aa2d3fb1b",
   "metadata": {},
   "outputs": [],
   "source": [
    "def perceptron_origin(data, labels, params = {}, hook = None):\n",
    "    T = params.get('T', 100)\n",
    "    (d, n) = data.shape\n",
    "    m = 0\n",
    "    theta = np.zeros((d, 1))\n",
    "    for t in range(T):\n",
    "        for i in range(n):\n",
    "            x = data[:,i:i+1]\n",
    "            y = labels[:,i:i+1]\n",
    "            if y * positive(x, theta, 0) <= 0.0:\n",
    "                m += 1\n",
    "                theta = theta + y * x\n",
    "                if hook: hook((theta, theta_0))\n",
    "    return theta, m"
   ]
  },
  {
   "cell_type": "code",
   "execution_count": 45,
   "id": "44609fc9-57d1-4f5f-8a04-5622f9c6cc00",
   "metadata": {},
   "outputs": [],
   "source": [
    "# it took such a long time to run T = 8888911, therefore introduce changed:\n",
    "def perceptron_origin(data, labels, params = {}, hook = None):\n",
    "    T = params.get('T', 100)\n",
    "    (d, n) = data.shape\n",
    "    m = 0\n",
    "    theta = np.zeros((d, 1))\n",
    "    for t in range(T):\n",
    "        changed = False\n",
    "        for i in range(n):\n",
    "            x = data[:,i:i+1]\n",
    "            y = labels[:,i:i+1]\n",
    "            if y * positive(x, theta, 0) <= 0.0:\n",
    "                m += 1\n",
    "                changed = True\n",
    "                theta = theta + y * x\n",
    "                if hook: hook((theta, theta_0))\n",
    "        if not changed:\n",
    "            break\n",
    "    return theta, m"
   ]
  },
  {
   "cell_type": "code",
   "execution_count": 46,
   "id": "91774c6d-363b-448e-bd22-80d29ce43836",
   "metadata": {},
   "outputs": [
    {
     "data": {
      "text/plain": [
       "(array([[-2.000000e+02],\n",
       "        [ 2.000068e+05],\n",
       "        [-4.000000e+00]]),\n",
       " 666696)"
      ]
     },
     "execution_count": 46,
     "metadata": {},
     "output_type": "execute_result"
    }
   ],
   "source": [
    "perceptron_origin(data, labels, params = {'T':8888911}, hook = None)"
   ]
  },
  {
   "cell_type": "code",
   "execution_count": 55,
   "id": "c5b3ff16-4899-479d-9cd2-7d9d22b70e71",
   "metadata": {},
   "outputs": [],
   "source": [
    "data = np.array([[200, 800, 200, 800],\n",
    "             [0.2,  0.2,  0.8,  0.8]])\n",
    "data_new = data*0.001\n",
    "D = np.concatenate((data_new, rv([1, 1, 1, 1])), axis=0)\n",
    "labels = rv([-1, -1, 1, 1])\n",
    "th = cv([0, 1, -0.0005])"
   ]
  },
  {
   "cell_type": "code",
   "execution_count": 57,
   "id": "b94a717c-1bf9-4bdd-af6a-56c1223b69c7",
   "metadata": {},
   "outputs": [
    {
     "data": {
      "text/plain": [
       "0.00029999996250000706"
      ]
     },
     "execution_count": 57,
     "metadata": {},
     "output_type": "execute_result"
    }
   ],
   "source": [
    "margin(D, labels, th)"
   ]
  },
  {
   "cell_type": "code",
   "execution_count": 58,
   "id": "ac8aaa98-8641-4350-9a8d-2f32e4dc8351",
   "metadata": {},
   "outputs": [
    {
     "data": {
      "text/plain": [
       "0.000299999962500007"
      ]
     },
     "execution_count": 58,
     "metadata": {},
     "output_type": "execute_result"
    }
   ],
   "source": [
    "m = 0.2683281572999747\n",
    "m*(1+0.5**2)**0.5/((1000**2 + 0.5**2)**0.5)"
   ]
  },
  {
   "cell_type": "code",
   "execution_count": 59,
   "id": "0da1eeba-1696-454e-af0f-0ed9f6ba6565",
   "metadata": {},
   "outputs": [
    {
     "data": {
      "text/plain": [
       "18222233.88889067"
      ]
     },
     "execution_count": 59,
     "metadata": {},
     "output_type": "execute_result"
    }
   ],
   "source": [
    "theotical_bound(D, labels, th)"
   ]
  },
  {
   "cell_type": "code",
   "execution_count": 60,
   "id": "7d6f430b-983d-4502-9d23-35759e6ea291",
   "metadata": {},
   "outputs": [
    {
     "data": {
      "text/plain": [
       "2.049996059385297"
      ]
     },
     "execution_count": 60,
     "metadata": {},
     "output_type": "execute_result"
    }
   ],
   "source": [
    "18222233.88889067/8888911.666666672"
   ]
  },
  {
   "cell_type": "code",
   "execution_count": 61,
   "id": "735bf061-72ff-4f43-ac6d-b75674f3061a",
   "metadata": {},
   "outputs": [
    {
     "data": {
      "text/plain": [
       "0.2683281572999747"
      ]
     },
     "execution_count": 61,
     "metadata": {},
     "output_type": "execute_result"
    }
   ],
   "source": [
    "data = np.array([[0.2, 0.8, 0.2, 0.8],\n",
    "                [0.2,  0.2,  0.8,  0.8],\n",
    "                [1, 1, 1, 1]])\n",
    "labels = rv([-1, -1, 1, 1])\n",
    "th = cv([0, 1, -0.5])\n",
    "margin(data, labels, th)"
   ]
  },
  {
   "cell_type": "code",
   "execution_count": 62,
   "id": "66bf7ebb-e44b-44f6-a805-a9173a473ab6",
   "metadata": {},
   "outputs": [
    {
     "data": {
      "text/plain": [
       "31.666666666666686"
      ]
     },
     "execution_count": 62,
     "metadata": {},
     "output_type": "execute_result"
    }
   ],
   "source": [
    "theotical_bound(data, labels, th)"
   ]
  },
  {
   "cell_type": "code",
   "execution_count": 63,
   "id": "11aca188-26bd-4a52-a01a-8d25adc097f2",
   "metadata": {},
   "outputs": [
    {
     "data": {
      "text/plain": [
       "(array([[-0.2],\n",
       "        [ 1.6],\n",
       "        [-1. ]]),\n",
       " 7)"
      ]
     },
     "execution_count": 63,
     "metadata": {},
     "output_type": "execute_result"
    }
   ],
   "source": [
    "perceptron_origin(data, labels, params = {'T':31}, hook = None)"
   ]
  },
  {
   "cell_type": "code",
   "execution_count": 3,
   "id": "d93c76fa-e8f4-4be5-a720-6cd6f8dd995a",
   "metadata": {},
   "outputs": [
    {
     "name": "stdout",
     "output_type": "stream",
     "text": [
      "(1, 4)\n",
      "(1, 4)\n"
     ]
    }
   ],
   "source": [
    "import numpy as np\n",
    "data = np.array([[2, 3,  4,  5]])\n",
    "labels = rv([1, 1, -1, -1])\n",
    "print(data.shape)\n",
    "print(labels.shape)"
   ]
  },
  {
   "cell_type": "code",
   "execution_count": 7,
   "id": "9c743d0d-8a50-4b18-bb0b-d63accb624b6",
   "metadata": {},
   "outputs": [
    {
     "data": {
      "text/plain": [
       "(array([[-2.]]), array([[7.]]))"
      ]
     },
     "execution_count": 7,
     "metadata": {},
     "output_type": "execute_result"
    }
   ],
   "source": [
    "perceptron(data, labels, params = {}, hook = None)"
   ]
  },
  {
   "cell_type": "code",
   "execution_count": 15,
   "id": "f629eb7b-0ef7-4678-8a00-029b61459f02",
   "metadata": {},
   "outputs": [],
   "source": [
    "def one_hot(x, k):\n",
    "    vec = np.zeros((k, 1))\n",
    "    vec[x-1] = 1\n",
    "    return vec"
   ]
  },
  {
   "cell_type": "code",
   "execution_count": 16,
   "id": "700d55ed-8957-4da5-90e3-ea126686c40d",
   "metadata": {},
   "outputs": [
    {
     "data": {
      "text/plain": [
       "array([[0.],\n",
       "       [0.],\n",
       "       [1.],\n",
       "       [0.],\n",
       "       [0.],\n",
       "       [0.],\n",
       "       [0.]])"
      ]
     },
     "execution_count": 16,
     "metadata": {},
     "output_type": "execute_result"
    }
   ],
   "source": [
    "one_hot(3, 7)"
   ]
  },
  {
   "cell_type": "code",
   "execution_count": 24,
   "id": "6b1e282f-799e-47e4-81d8-b24ea5bd2ce4",
   "metadata": {},
   "outputs": [
    {
     "data": {
      "text/plain": [
       "array([[0., 0., 0., 0.],\n",
       "       [1., 0., 0., 0.],\n",
       "       [0., 1., 0., 0.],\n",
       "       [0., 0., 1., 0.],\n",
       "       [0., 0., 0., 1.],\n",
       "       [0., 0., 0., 0.]])"
      ]
     },
     "execution_count": 24,
     "metadata": {},
     "output_type": "execute_result"
    }
   ],
   "source": [
    "res = np.zeros((6, 1))\n",
    "for i in range(4):\n",
    "    x = data[:, i].item()\n",
    "    r = one_hot(x, 6)\n",
    "    res = np.append(res, r, axis=1)\n",
    "data = res[:, 1:]\n",
    "data"
   ]
  },
  {
   "cell_type": "code",
   "execution_count": 31,
   "id": "1f8491f6-ca71-4b1e-b29f-d308a92e87c0",
   "metadata": {},
   "outputs": [],
   "source": [
    "th, th0 = perceptron(data, labels, params = {}, hook = None)"
   ]
  },
  {
   "cell_type": "code",
   "execution_count": 34,
   "id": "9547f07c-8f40-41de-90ed-621f82e7b402",
   "metadata": {},
   "outputs": [
    {
     "name": "stdout",
     "output_type": "stream",
     "text": [
      "[ 0.  2.  1. -2. -1.  0.] [[0.]]\n"
     ]
    }
   ],
   "source": [
    "print(th.flatten(), th0)"
   ]
  },
  {
   "cell_type": "code",
   "execution_count": 42,
   "id": "2123f6a8-75ba-4ec9-a62a-ac11145ad749",
   "metadata": {},
   "outputs": [
    {
     "data": {
      "text/plain": [
       "array([[0.]])"
      ]
     },
     "execution_count": 42,
     "metadata": {},
     "output_type": "execute_result"
    }
   ],
   "source": [
    "(th.T@one_hot(1, 6)+th0)/np.linalg.norm(th)"
   ]
  },
  {
   "cell_type": "code",
   "execution_count": 45,
   "id": "ad525b28-4a91-40d1-b0fe-3219a6fc6534",
   "metadata": {},
   "outputs": [
    {
     "data": {
      "text/plain": [
       "array([[1., 0., 0., 0., 0., 0.],\n",
       "       [0., 1., 0., 0., 0., 0.],\n",
       "       [0., 0., 1., 0., 0., 0.],\n",
       "       [0., 0., 0., 1., 0., 0.],\n",
       "       [0., 0., 0., 0., 1., 0.],\n",
       "       [0., 0., 0., 0., 0., 1.]])"
      ]
     },
     "execution_count": 45,
     "metadata": {},
     "output_type": "execute_result"
    }
   ],
   "source": [
    "data =   np.array([[1, 2, 3, 4, 5, 6]])\n",
    "labels = rv([1, 1, -1, -1, 1, 1])\n",
    "\n",
    "res = np.zeros((6, 1))\n",
    "for i in range(data.shape[1]):\n",
    "    x = data[:, i].item()\n",
    "    r = one_hot(x, 6)\n",
    "    res = np.append(res, r, axis=1)\n",
    "data_oh = res[:, 1:]\n",
    "\n",
    "data_oh"
   ]
  },
  {
   "cell_type": "code",
   "execution_count": 46,
   "id": "3bc729d0-e594-4be9-8015-c0f475fd353d",
   "metadata": {},
   "outputs": [
    {
     "data": {
      "text/plain": [
       "(array([[ 1.],\n",
       "        [ 1.],\n",
       "        [-2.],\n",
       "        [-2.],\n",
       "        [ 1.],\n",
       "        [ 1.]]),\n",
       " array([[0.]]))"
      ]
     },
     "execution_count": 46,
     "metadata": {},
     "output_type": "execute_result"
    }
   ],
   "source": [
    "perceptron(data_oh, labels, params = {}, hook = None)"
   ]
  },
  {
   "cell_type": "code",
   "execution_count": 49,
   "id": "ff2b2954-b152-4f7d-87e8-ce5341c27997",
   "metadata": {},
   "outputs": [
    {
     "data": {
      "text/plain": [
       "[3, 66, 231, 496, 861, 1326]"
      ]
     },
     "execution_count": 49,
     "metadata": {},
     "output_type": "execute_result"
    }
   ],
   "source": [
    "li = []\n",
    "for i in [1, 10, 20, 30, 40, 50]:\n",
    "    res = (i + 2)*(i + 1)/2\n",
    "    li.append(int(res))\n",
    "li"
   ]
  },
  {
   "cell_type": "code",
   "execution_count": null,
   "id": "50a4d31b-ac7e-48e8-8832-e68df7a807c0",
   "metadata": {},
   "outputs": [],
   "source": []
  }
 ],
 "metadata": {
  "kernelspec": {
   "display_name": "Python 3 (ipykernel)",
   "language": "python",
   "name": "python3"
  },
  "language_info": {
   "codemirror_mode": {
    "name": "ipython",
    "version": 3
   },
   "file_extension": ".py",
   "mimetype": "text/x-python",
   "name": "python",
   "nbconvert_exporter": "python",
   "pygments_lexer": "ipython3",
   "version": "3.10.9"
  }
 },
 "nbformat": 4,
 "nbformat_minor": 5
}
