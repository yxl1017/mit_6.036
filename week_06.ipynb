{
 "cells": [
  {
   "cell_type": "code",
   "execution_count": 9,
   "id": "6c9ee847-f257-4b20-8677-c07e31113d73",
   "metadata": {},
   "outputs": [],
   "source": [
    "import numpy as np\n",
    "def hinge_loss_grad(x, y, a):\n",
    "    gradient_list = []\n",
    "    for i in range(x.shape[0]):\n",
    "        if y*a > 1:\n",
    "            g = 0\n",
    "        else:\n",
    "            g = -y*x[i, :]\n",
    "        gradient_list.append(g)\n",
    "    return np.array(gradient_list).reshape(-1, 1)"
   ]
  },
  {
   "cell_type": "code",
   "execution_count": 10,
   "id": "aa7e1b19-1521-41e1-ad1e-8136bd9b3ba2",
   "metadata": {},
   "outputs": [
    {
     "data": {
      "text/plain": [
       "array([[ 1],\n",
       "       [-2]])"
      ]
     },
     "execution_count": 10,
     "metadata": {},
     "output_type": "execute_result"
    }
   ],
   "source": [
    "hinge_loss_grad(np.array([[1],[-2]]), -1, 1.1)"
   ]
  },
  {
   "cell_type": "code",
   "execution_count": 13,
   "id": "d914f7b1-c365-4de9-b98c-a431b693975a",
   "metadata": {},
   "outputs": [
    {
     "name": "stdout",
     "output_type": "stream",
     "text": [
      "[0.09003057317038046, 0.24472847105479767, 0.6652409557748219]\n"
     ]
    }
   ],
   "source": [
    "from math import exp\n",
    "total = exp(-1) + exp(0) + exp(1)\n",
    "li = [exp(-1)/total, exp(0)/total, exp(1)/total]\n",
    "print(li)"
   ]
  },
  {
   "cell_type": "code",
   "execution_count": 15,
   "id": "f3366687-02ee-448a-bc4d-a408a0f0b252",
   "metadata": {},
   "outputs": [],
   "source": [
    "def sm(z):\n",
    "    '''\n",
    "    z: nx1\n",
    "    '''\n",
    "    a = []\n",
    "    total = 0\n",
    "    for i in range(z.shape[0]):\n",
    "        total = total + exp(z[i,:])\n",
    "        a.append(exp(z[i,:]))\n",
    "    return np.array(a).reshape(-1, 1)/total"
   ]
  },
  {
   "cell_type": "code",
   "execution_count": 23,
   "id": "1ab51ce1-7676-4b15-92df-fdf5d1914679",
   "metadata": {},
   "outputs": [
    {
     "name": "stdout",
     "output_type": "stream",
     "text": [
      "[[ 0.24472847 -0.33475904  0.09003057]\n",
      " [ 0.24472847 -0.33475904  0.09003057]]\n"
     ]
    }
   ],
   "source": [
    "w = np.array([[1, -1, -2], [-1, 2, 1]])\n",
    "x = np.array([[1, 1]]).T\n",
    "y = np.array([[0, 1, 0]]).T\n",
    "z = w.T@x\n",
    "a = sm(z)\n",
    "gradient_w = x@(a - y).T\n",
    "print(gradient_w)"
   ]
  },
  {
   "cell_type": "code",
   "execution_count": 30,
   "id": "d40d2d32-2df0-4f95-93b0-4361c1db4c8e",
   "metadata": {},
   "outputs": [],
   "source": [
    "from math import log\n",
    "def NLL(a, y):\n",
    "    loss = 0\n",
    "    for i in range(a.shape[0]):\n",
    "        loss = loss + y[i,:]*log(a[i,:])\n",
    "    return -loss"
   ]
  },
  {
   "cell_type": "code",
   "execution_count": 31,
   "id": "4b4cc38e-1676-4864-abad-64836149cd65",
   "metadata": {},
   "outputs": [
    {
     "data": {
      "text/plain": [
       "[[0.8776357644726012, -0.8326204778874109, -2.04501528658519],\n",
       " [-1.1223642355273988, 2.167379522112589, 0.9549847134148097]]"
      ]
     },
     "execution_count": 31,
     "metadata": {},
     "output_type": "execute_result"
    }
   ],
   "source": [
    "eta = 0.5\n",
    "w_new = w - eta*gradient_w\n",
    "w_new.tolist()"
   ]
  },
  {
   "cell_type": "code",
   "execution_count": 32,
   "id": "794266fb-42c8-4ae4-a025-22915cb656fe",
   "metadata": {},
   "outputs": [
    {
     "data": {
      "text/plain": [
       "array([[0.15918761],\n",
       "       [0.77245284],\n",
       "       [0.06835955]])"
      ]
     },
     "execution_count": 32,
     "metadata": {},
     "output_type": "execute_result"
    }
   ],
   "source": [
    "z = w_new.T@x\n",
    "a = sm(z)\n",
    "a"
   ]
  },
  {
   "cell_type": "code",
   "execution_count": 33,
   "id": "3db7d5ab-e249-4fd4-b0c4-1f5e8a44af46",
   "metadata": {},
   "outputs": [
    {
     "name": "stdout",
     "output_type": "stream",
     "text": [
      "[[6.05288295]\n",
      " [6.48663207]\n",
      " [6.7519581 ]\n",
      " [7.58553317]]\n"
     ]
    }
   ],
   "source": [
    "#3\n",
    "\n",
    "# layer 1 weights\n",
    "w_1 = np.array([[1, 0, -1, 0], [0, 1, 0, -1]])\n",
    "w_1_bias = np.array([[-1, -1, -1, -1]]).T\n",
    "# layer 2 weights\n",
    "w_2 = np.array([[1, -1], [1, -1], [1, -1], [1, -1]])\n",
    "w_2_bias = np.array([[0, 2]]).T\n",
    "\n",
    "T  = np.matrix([[0.0 , 0.1 , 0.9 , 0.0],\n",
    "[0.9 , 0.1 , 0.0 , 0.0],\n",
    "[0.0 , 0.0 , 0.1 , 0.9],\n",
    "[0.9 , 0.0 , 0.0 , 0.1]])\n",
    "g = 0.9\n",
    "r = np.matrix([0, 1., 0., 2.]).reshape(4, 1)\n",
    "\n",
    "print(np.linalg.solve(np.eye(4) - g * T, r))"
   ]
  },
  {
   "cell_type": "code",
   "execution_count": 50,
   "id": "0e69f39e-3296-45f4-a82c-15a6bf3480d4",
   "metadata": {},
   "outputs": [
    {
     "data": {
      "text/plain": [
       "array([ 2, 13,  0,  0])"
      ]
     },
     "execution_count": 50,
     "metadata": {},
     "output_type": "execute_result"
    }
   ],
   "source": [
    "x = np.array([3, 14]).reshape(-1, 1)\n",
    "z_1 = w_1.T@x + w_1_bias\n",
    "A = np.maximum(z_1, 0)\n",
    "A.flatten()"
   ]
  },
  {
   "cell_type": "code",
   "execution_count": 61,
   "id": "a3589171-90c2-4a9f-9ad3-640d56f98bb8",
   "metadata": {},
   "outputs": [
    {
     "data": {
      "text/plain": [
       "array([[1.],\n",
       "       [0.]])"
      ]
     },
     "execution_count": 61,
     "metadata": {},
     "output_type": "execute_result"
    }
   ],
   "source": [
    "z_2 = w_2.T@A + w_2_bias\n",
    "A_2 = sm(z_2)\n",
    "np.round(A_2)"
   ]
  },
  {
   "cell_type": "code",
   "execution_count": 73,
   "id": "011ede44-5dc4-40a7-af34-a6ae3ad73805",
   "metadata": {},
   "outputs": [
    {
     "data": {
      "text/plain": [
       "[[0.0, 0.0, 0.0], [0.0, 1.0, 0.0], [0.0, 0.0, 2.0], [0.0, 0.0, 0.0]]"
      ]
     },
     "execution_count": 73,
     "metadata": {},
     "output_type": "execute_result"
    }
   ],
   "source": [
    "x1 = np.array([0.5, 0.5]).reshape(-1, 1)\n",
    "x2 = np.array([0, 2]).reshape(-1, 1)\n",
    "x3 = np.array([-3, 0.5]).reshape(-1, 1)\n",
    "X = np.concatenate((x1, x2, x3),axis=1)\n",
    "Z = w_1.T@X + w_1_bias\n",
    "A = np.maximum(Z, 0)\n",
    "A.tolist()"
   ]
  },
  {
   "cell_type": "code",
   "execution_count": 87,
   "id": "37713ab8-e295-406a-b73b-2d76d2def90b",
   "metadata": {},
   "outputs": [
    {
     "name": "stdout",
     "output_type": "stream",
     "text": [
      "[[ 3]\n",
      " [-1]]\n"
     ]
    },
    {
     "data": {
      "text/plain": [
       "array([[1.],\n",
       "       [0.]])"
      ]
     },
     "execution_count": 87,
     "metadata": {},
     "output_type": "execute_result"
    }
   ],
   "source": [
    "a = np.array([3, 0 , 0, 0]).reshape(-1, 1)\n",
    "z_2 = w_2.T@a + w_2_bias\n",
    "print(z_2)\n",
    "a_2 = sm(z_2)\n",
    "np.round(a_2)"
   ]
  }
 ],
 "metadata": {
  "kernelspec": {
   "display_name": "Python 3 (ipykernel)",
   "language": "python",
   "name": "python3"
  },
  "language_info": {
   "codemirror_mode": {
    "name": "ipython",
    "version": 3
   },
   "file_extension": ".py",
   "mimetype": "text/x-python",
   "name": "python",
   "nbconvert_exporter": "python",
   "pygments_lexer": "ipython3",
   "version": "3.10.10"
  }
 },
 "nbformat": 4,
 "nbformat_minor": 5
}
